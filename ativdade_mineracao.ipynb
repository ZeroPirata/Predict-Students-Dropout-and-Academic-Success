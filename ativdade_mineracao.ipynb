{
  "nbformat": 4,
  "nbformat_minor": 0,
  "metadata": {
    "colab": {
      "provenance": [],
      "collapsed_sections": [
        "kTiWB5qbZI9N",
        "-4xuEVpTsxCi",
        "exUUz4LJt_xH",
        "t7jFWs_f4X2c",
        "CgHAVF4SSrO1",
        "xo2G1KhNSt_W"
      ]
    },
    "kernelspec": {
      "name": "python3",
      "display_name": "Python 3"
    },
    "language_info": {
      "name": "python"
    }
  },
  "cells": [
    {
      "cell_type": "markdown",
      "source": [
        "\n",
        "# Project Data Mining\n",
        "---\n",
        "Base name: Predict students' dropout and academic success <br>\n",
        "url: https://archive.ics.uci.edu/dataset/697/predict+student+dropout+and+academic+success\n"
      ],
      "metadata": {
        "id": "NdWgWz5TV2vK"
      }
    },
    {
      "cell_type": "markdown",
      "source": [
        "## Dependency\n",
        "Instalação de todas as dependencias do projeto, assim como a importação da base de dados utilizando a biblioteca ucimlrepo e colocando o dataframe dentro de um pandas, para facilitar a manipulação."
      ],
      "metadata": {
        "id": "kTiWB5qbZI9N"
      }
    },
    {
      "cell_type": "code",
      "source": [
        "!pip install ucimlrepo"
      ],
      "metadata": {
        "id": "uWbfVHvBZEBa",
        "colab": {
          "base_uri": "https://localhost:8080/"
        },
        "outputId": "a4147935-0068-4857-bd4f-ce7a3da309db"
      },
      "execution_count": null,
      "outputs": [
        {
          "output_type": "stream",
          "name": "stdout",
          "text": [
            "Collecting ucimlrepo\n",
            "  Downloading ucimlrepo-0.0.7-py3-none-any.whl (8.0 kB)\n",
            "Requirement already satisfied: pandas>=1.0.0 in /usr/local/lib/python3.10/dist-packages (from ucimlrepo) (2.0.3)\n",
            "Requirement already satisfied: certifi>=2020.12.5 in /usr/local/lib/python3.10/dist-packages (from ucimlrepo) (2024.2.2)\n",
            "Requirement already satisfied: python-dateutil>=2.8.2 in /usr/local/lib/python3.10/dist-packages (from pandas>=1.0.0->ucimlrepo) (2.8.2)\n",
            "Requirement already satisfied: pytz>=2020.1 in /usr/local/lib/python3.10/dist-packages (from pandas>=1.0.0->ucimlrepo) (2023.4)\n",
            "Requirement already satisfied: tzdata>=2022.1 in /usr/local/lib/python3.10/dist-packages (from pandas>=1.0.0->ucimlrepo) (2024.1)\n",
            "Requirement already satisfied: numpy>=1.21.0 in /usr/local/lib/python3.10/dist-packages (from pandas>=1.0.0->ucimlrepo) (1.25.2)\n",
            "Requirement already satisfied: six>=1.5 in /usr/local/lib/python3.10/dist-packages (from python-dateutil>=2.8.2->pandas>=1.0.0->ucimlrepo) (1.16.0)\n",
            "Installing collected packages: ucimlrepo\n",
            "Successfully installed ucimlrepo-0.0.7\n"
          ]
        }
      ]
    },
    {
      "cell_type": "code",
      "source": [
        "import pandas as pd\n",
        "import numpy as np\n",
        "import matplotlib.pyplot as plt\n",
        "import seaborn as sns\n",
        "import statsmodels.api as sm\n",
        "import sklearn\n",
        "import scipy.stats as stats"
      ],
      "metadata": {
        "id": "LyuLpNgQj4U6"
      },
      "execution_count": null,
      "outputs": []
    },
    {
      "cell_type": "code",
      "source": [
        "from sklearn import tree\n",
        "from ucimlrepo import fetch_ucirepo\n",
        "from matplotlib.lines import Line2D\n",
        "from sklearn.pipeline import Pipeline\n",
        "from sklearn.cluster import KMeans\n",
        "from sklearn.decomposition import PCA\n",
        "from sklearn.neural_network import MLPClassifier\n",
        "from sklearn.feature_selection import SelectKBest, f_regression\n",
        "from sklearn.model_selection import train_test_split, cross_val_score, GridSearchCV\n",
        "from sklearn.neighbors import KNeighborsClassifier\n",
        "from sklearn.svm import SVC\n",
        "from sklearn.naive_bayes import GaussianNB, MultinomialNB\n",
        "from sklearn.tree import DecisionTreeClassifier\n",
        "from sklearn.ensemble import RandomForestClassifier, AdaBoostClassifier\n",
        "from sklearn.linear_model import LogisticRegression, LinearRegression, ElasticNet\n",
        "from sklearn.preprocessing import StandardScaler, label_binarize\n",
        "from sklearn.metrics import RocCurveDisplay, precision_score, recall_score, f1_score, mean_absolute_error, mean_squared_error, log_loss, confusion_matrix, accuracy_score, classification_report, r2_score, roc_curve, roc_auc_score, auc"
      ],
      "metadata": {
        "id": "k8T5a700jSm_"
      },
      "execution_count": null,
      "outputs": []
    },
    {
      "cell_type": "code",
      "source": [
        "predict_students_dropout_and_academic_success = fetch_ucirepo(id=697)"
      ],
      "metadata": {
        "id": "ejqi1Dtyk4ux"
      },
      "execution_count": null,
      "outputs": []
    },
    {
      "cell_type": "code",
      "source": [
        "X_dropout = predict_students_dropout_and_academic_success.data.features\n",
        "y_dropout = predict_students_dropout_and_academic_success.data.targets\n",
        "main_df = pd.read_csv(predict_students_dropout_and_academic_success.metadata.data_url, sep = ',')"
      ],
      "metadata": {
        "id": "7Cb-LnJNkH3c"
      },
      "execution_count": null,
      "outputs": []
    },
    {
      "cell_type": "code",
      "source": [
        "print(predict_students_dropout_and_academic_success.metadata.data_url)"
      ],
      "metadata": {
        "colab": {
          "base_uri": "https://localhost:8080/"
        },
        "id": "T1qId3S0gNyq",
        "outputId": "76dd824b-8aa2-4fb3-9b85-fa6138e62e12"
      },
      "execution_count": null,
      "outputs": [
        {
          "output_type": "stream",
          "name": "stdout",
          "text": [
            "https://archive.ics.uci.edu/static/public/697/data.csv\n"
          ]
        }
      ]
    },
    {
      "cell_type": "markdown",
      "source": [
        "## Start"
      ],
      "metadata": {
        "id": "s2Jf26mplI-R"
      }
    },
    {
      "cell_type": "markdown",
      "source": [
        "## Tratamento\n",
        "\n",
        "Aqui vamos fazer toda a etapa de pré-processamento dos dados, onde iremos fazer a verificação se existe dados nulos, remoção de colunas que não são necessarias, transformação de valores categoricos em valores numericos, entre outras técnicas de pré-processamento."
      ],
      "metadata": {
        "id": "-4xuEVpTsxCi"
      }
    },
    {
      "cell_type": "code",
      "source": [
        "df = main_df.copy()"
      ],
      "metadata": {
        "id": "36fchb39m831"
      },
      "execution_count": null,
      "outputs": []
    },
    {
      "cell_type": "markdown",
      "source": [
        "Apresentação dos dados contidos em nosso arquivo CSV, que completam 37 colunas.\n",
        "Cada coluna é preenchida com valores numéricos, seja inteiros ou flutuantes. Notavelmente, não há presença de dados nulos, todas as 4424 entradas estão devidamente preenchidas com seus respectivos"
      ],
      "metadata": {
        "id": "3zwC7K_Ms5qD"
      }
    },
    {
      "cell_type": "code",
      "source": [
        "df.info()"
      ],
      "metadata": {
        "id": "FGgXz4AJszg7",
        "colab": {
          "base_uri": "https://localhost:8080/"
        },
        "outputId": "7873ad13-45ef-4c22-9ad5-65f21ae346fe"
      },
      "execution_count": null,
      "outputs": [
        {
          "output_type": "stream",
          "name": "stdout",
          "text": [
            "<class 'pandas.core.frame.DataFrame'>\n",
            "RangeIndex: 4424 entries, 0 to 4423\n",
            "Data columns (total 37 columns):\n",
            " #   Column                                          Non-Null Count  Dtype  \n",
            "---  ------                                          --------------  -----  \n",
            " 0   Marital Status                                  4424 non-null   int64  \n",
            " 1   Application mode                                4424 non-null   int64  \n",
            " 2   Application order                               4424 non-null   int64  \n",
            " 3   Course                                          4424 non-null   int64  \n",
            " 4   Daytime/evening attendance                      4424 non-null   int64  \n",
            " 5   Previous qualification                          4424 non-null   int64  \n",
            " 6   Previous qualification (grade)                  4424 non-null   float64\n",
            " 7   Nacionality                                     4424 non-null   int64  \n",
            " 8   Mother's qualification                          4424 non-null   int64  \n",
            " 9   Father's qualification                          4424 non-null   int64  \n",
            " 10  Mother's occupation                             4424 non-null   int64  \n",
            " 11  Father's occupation                             4424 non-null   int64  \n",
            " 12  Admission grade                                 4424 non-null   float64\n",
            " 13  Displaced                                       4424 non-null   int64  \n",
            " 14  Educational special needs                       4424 non-null   int64  \n",
            " 15  Debtor                                          4424 non-null   int64  \n",
            " 16  Tuition fees up to date                         4424 non-null   int64  \n",
            " 17  Gender                                          4424 non-null   int64  \n",
            " 18  Scholarship holder                              4424 non-null   int64  \n",
            " 19  Age at enrollment                               4424 non-null   int64  \n",
            " 20  International                                   4424 non-null   int64  \n",
            " 21  Curricular units 1st sem (credited)             4424 non-null   int64  \n",
            " 22  Curricular units 1st sem (enrolled)             4424 non-null   int64  \n",
            " 23  Curricular units 1st sem (evaluations)          4424 non-null   int64  \n",
            " 24  Curricular units 1st sem (approved)             4424 non-null   int64  \n",
            " 25  Curricular units 1st sem (grade)                4424 non-null   float64\n",
            " 26  Curricular units 1st sem (without evaluations)  4424 non-null   int64  \n",
            " 27  Curricular units 2nd sem (credited)             4424 non-null   int64  \n",
            " 28  Curricular units 2nd sem (enrolled)             4424 non-null   int64  \n",
            " 29  Curricular units 2nd sem (evaluations)          4424 non-null   int64  \n",
            " 30  Curricular units 2nd sem (approved)             4424 non-null   int64  \n",
            " 31  Curricular units 2nd sem (grade)                4424 non-null   float64\n",
            " 32  Curricular units 2nd sem (without evaluations)  4424 non-null   int64  \n",
            " 33  Unemployment rate                               4424 non-null   float64\n",
            " 34  Inflation rate                                  4424 non-null   float64\n",
            " 35  GDP                                             4424 non-null   float64\n",
            " 36  Target                                          4424 non-null   object \n",
            "dtypes: float64(7), int64(29), object(1)\n",
            "memory usage: 1.2+ MB\n"
          ]
        }
      ]
    },
    {
      "cell_type": "markdown",
      "source": [
        "Verificação se existe valores duplicado para cada coluna dentro do arquivo CSV para executar alguma arbodagem necessaria, como por exemplo utilização de algoritmos e tecnicas para fazer injeção nos dados faltantes."
      ],
      "metadata": {
        "id": "Kgu3cwq6o_Wo"
      }
    },
    {
      "cell_type": "code",
      "source": [
        "print(\"Verificação se existe dados nulos:\\n\", df.isnull().sum())"
      ],
      "metadata": {
        "id": "oI2qa7HoWDdG",
        "colab": {
          "base_uri": "https://localhost:8080/"
        },
        "outputId": "08f235eb-1be8-4a5f-8520-1c4e8a9ca9c2"
      },
      "execution_count": null,
      "outputs": [
        {
          "output_type": "stream",
          "name": "stdout",
          "text": [
            "Verificação se existe dados nulos:\n",
            " Marital Status                                    0\n",
            "Application mode                                  0\n",
            "Application order                                 0\n",
            "Course                                            0\n",
            "Daytime/evening attendance                        0\n",
            "Previous qualification                            0\n",
            "Previous qualification (grade)                    0\n",
            "Nacionality                                       0\n",
            "Mother's qualification                            0\n",
            "Father's qualification                            0\n",
            "Mother's occupation                               0\n",
            "Father's occupation                               0\n",
            "Admission grade                                   0\n",
            "Displaced                                         0\n",
            "Educational special needs                         0\n",
            "Debtor                                            0\n",
            "Tuition fees up to date                           0\n",
            "Gender                                            0\n",
            "Scholarship holder                                0\n",
            "Age at enrollment                                 0\n",
            "International                                     0\n",
            "Curricular units 1st sem (credited)               0\n",
            "Curricular units 1st sem (enrolled)               0\n",
            "Curricular units 1st sem (evaluations)            0\n",
            "Curricular units 1st sem (approved)               0\n",
            "Curricular units 1st sem (grade)                  0\n",
            "Curricular units 1st sem (without evaluations)    0\n",
            "Curricular units 2nd sem (credited)               0\n",
            "Curricular units 2nd sem (enrolled)               0\n",
            "Curricular units 2nd sem (evaluations)            0\n",
            "Curricular units 2nd sem (approved)               0\n",
            "Curricular units 2nd sem (grade)                  0\n",
            "Curricular units 2nd sem (without evaluations)    0\n",
            "Unemployment rate                                 0\n",
            "Inflation rate                                    0\n",
            "GDP                                               0\n",
            "Target                                            0\n",
            "dtype: int64\n"
          ]
        }
      ]
    },
    {
      "cell_type": "code",
      "source": [
        "print(\"Numero de dados duplicados: \", df.duplicated().sum())"
      ],
      "metadata": {
        "id": "BysHRS_Htwfj",
        "colab": {
          "base_uri": "https://localhost:8080/"
        },
        "outputId": "ea6bcb64-9b0f-4ac8-dd48-3af5a52cedb4"
      },
      "execution_count": null,
      "outputs": [
        {
          "output_type": "stream",
          "name": "stdout",
          "text": [
            "Numero de dados duplicados:  0\n"
          ]
        }
      ]
    },
    {
      "cell_type": "markdown",
      "source": [
        "Alteração no nome de colunas importantes para facilitar a tratativa dos itens\n",
        "\n",
        "---\n",
        "\n",
        "- Nacionality -> Nacionalidade\n",
        "- Target -> Status"
      ],
      "metadata": {
        "id": "efcSnhgBWPZ-"
      }
    },
    {
      "cell_type": "code",
      "source": [
        "df.rename(columns = {'Nacionality':'Nacionalidade', 'Target': 'Status'}, inplace = True)"
      ],
      "metadata": {
        "id": "jpTEwiOiWPEe"
      },
      "execution_count": null,
      "outputs": []
    },
    {
      "cell_type": "markdown",
      "source": [
        "Alteração dos valores categoricos para numericos\n",
        "\n",
        "---\n",
        "- Enrolled -> 0\n",
        "- Graduate -> 1\n",
        "- Dropout  -> 2"
      ],
      "metadata": {
        "id": "jGENMj5_Wsfm"
      }
    },
    {
      "cell_type": "code",
      "source": [
        "df['Status'] = df['Status'].map({'Enrolled' : 0, 'Graduate': 1, 'Dropout': 2})"
      ],
      "metadata": {
        "id": "WcMQuPQLV338"
      },
      "execution_count": null,
      "outputs": []
    },
    {
      "cell_type": "markdown",
      "source": [
        "realiza uma análise de correlação entre a coluna 'Status' e as demais, a fim de identificar quais têm a maior sinergia com ela. Ao utilizar o método 'Spearman', buscamos avaliar se há uma relação monotônica entre as variáveis, o que implica que, conforme uma variável aumenta, a outra também tende a aumentar (ou diminuir)."
      ],
      "metadata": {
        "id": "b6etQSUjXA0v"
      }
    },
    {
      "cell_type": "code",
      "source": [
        "spearman_corr = df.corr(method='spearman')['Status'].sort_values(ascending=False)\n",
        "print(spearman_corr)"
      ],
      "metadata": {
        "id": "4C0oRh8MXKdX",
        "collapsed": true,
        "colab": {
          "base_uri": "https://localhost:8080/"
        },
        "outputId": "b413a755-06d9-4d1e-e91c-9d73ab87d7f7"
      },
      "execution_count": null,
      "outputs": [
        {
          "output_type": "stream",
          "name": "stdout",
          "text": [
            "Status                                            1.000000\n",
            "Age at enrollment                                 0.210285\n",
            "Debtor                                            0.166695\n",
            "Gender                                            0.131119\n",
            "Application mode                                  0.123301\n",
            "Previous qualification                            0.122757\n",
            "Marital Status                                    0.097270\n",
            "Mother's qualification                            0.051243\n",
            "Unemployment rate                                 0.033238\n",
            "Curricular units 2nd sem (without evaluations)    0.027242\n",
            "Curricular units 1st sem (without evaluations)    0.022230\n",
            "Inflation rate                                    0.018713\n",
            "Course                                            0.010208\n",
            "Father's qualification                            0.005161\n",
            "Curricular units 1st sem (credited)              -0.001293\n",
            "Educational special needs                        -0.002991\n",
            "Curricular units 2nd sem (credited)              -0.003512\n",
            "Nacionalidade                                    -0.015230\n",
            "International                                    -0.015461\n",
            "Mother's occupation                              -0.024814\n",
            "Previous qualification (grade)                   -0.028721\n",
            "Father's occupation                              -0.030943\n",
            "Application order                                -0.044462\n",
            "GDP                                              -0.046600\n",
            "Admission grade                                  -0.048530\n",
            "Daytime/evening attendance                       -0.069293\n",
            "Displaced                                        -0.076395\n",
            "Curricular units 1st sem (enrolled)              -0.087924\n",
            "Curricular units 2nd sem (enrolled)              -0.091566\n",
            "Curricular units 1st sem (evaluations)           -0.124560\n",
            "Scholarship holder                               -0.132795\n",
            "Curricular units 2nd sem (evaluations)           -0.182367\n",
            "Curricular units 1st sem (grade)                 -0.285433\n",
            "Curricular units 1st sem (approved)              -0.330500\n",
            "Curricular units 2nd sem (grade)                 -0.342133\n",
            "Tuition fees up to date                          -0.358649\n",
            "Curricular units 2nd sem (approved)              -0.374350\n",
            "Name: Status, dtype: float64\n"
          ]
        }
      ]
    },
    {
      "cell_type": "markdown",
      "source": [
        "Aplicação da tecnica feature engineering, realiazndo a junção das tabelas para que os preditores possam aumentar significamente a precisão do modelo.\n"
      ],
      "metadata": {
        "id": "lRxXi3VCYvEH"
      }
    },
    {
      "cell_type": "code",
      "source": [
        "df['Interacao_UC_1st_2nd_Aprovado'] = df['Curricular units 1st sem (approved)'] * df['Curricular units 2nd sem (approved)']\n",
        "df['Interacao_UC_1st_2nd_Nota'] = df['Curricular units 1st sem (grade)'] * df['Curricular units 2nd sem (grade)']\n",
        "df['Interacao_UC_1st_2nd_credited'] = df['Curricular units 1st sem (credited)'] * df['Curricular units 2nd sem (credited)']\n",
        "df['Interacao_UC_1st_2nd_enrolled'] = df['Curricular units 1st sem (enrolled)'] * df['Curricular units 1st sem (enrolled)']\n",
        "df['Interacao_UC_1st_2nd_evaluations'] = df['Curricular units 1st sem (evaluations)'] * df['Curricular units 1st sem (evaluations)']"
      ],
      "metadata": {
        "id": "_oDofDxgYfKW"
      },
      "execution_count": null,
      "outputs": []
    },
    {
      "cell_type": "code",
      "source": [
        "df['Total_UC_Aprovado'] = df['Curricular units 1st sem (approved)'] + df['Curricular units 2nd sem (approved)']\n",
        "df['Total_UC_Credited'] = df['Curricular units 1st sem (credited)'] + df['Curricular units 2nd sem (credited)']\n",
        "df['Total_UC_Enrolled'] = df['Curricular units 1st sem (enrolled)'] + df['Curricular units 2nd sem (enrolled)']\n",
        "df['Total_UC_Evaluations'] = df['Curricular units 1st sem (evaluations)'] + df['Curricular units 2nd sem (evaluations)']\n",
        "df['Total_UC_Nota'] = (df['Curricular units 1st sem (grade)'] + df['Curricular units 2nd sem (grade)']) / 2"
      ],
      "metadata": {
        "id": "bx_b25f3YhAF"
      },
      "execution_count": null,
      "outputs": []
    },
    {
      "cell_type": "code",
      "source": [
        "drop_columns = [\n",
        "    'Curricular units 1st sem (approved)', 'Curricular units 2nd sem (approved)',\n",
        "    'Curricular units 1st sem (grade)', 'Curricular units 2nd sem (grade)',\n",
        "    'Curricular units 1st sem (credited)','Curricular units 2nd sem (credited)',\n",
        "    'Curricular units 1st sem (enrolled)','Curricular units 2nd sem (enrolled)',\n",
        "    'Curricular units 1st sem (evaluations)','Curricular units 2nd sem (evaluations)'\n",
        "    ]\n",
        "df.drop(drop_columns, axis=1, inplace=True)"
      ],
      "metadata": {
        "id": "0UQM2YrNYiht"
      },
      "execution_count": null,
      "outputs": []
    },
    {
      "cell_type": "code",
      "source": [
        "df.head(5)"
      ],
      "metadata": {
        "id": "-778RfIMfOLj",
        "colab": {
          "base_uri": "https://localhost:8080/"
        },
        "outputId": "a6ff0992-f569-442e-dc6c-40c0a9df1c15"
      },
      "execution_count": null,
      "outputs": [
        {
          "output_type": "execute_result",
          "data": {
            "text/plain": [
              "   Marital Status  Application mode  Application order  Course  \\\n",
              "0               1                17                  5     171   \n",
              "1               1                15                  1    9254   \n",
              "2               1                 1                  5    9070   \n",
              "3               1                17                  2    9773   \n",
              "4               2                39                  1    8014   \n",
              "\n",
              "   Daytime/evening attendance  Previous qualification  \\\n",
              "0                           1                       1   \n",
              "1                           1                       1   \n",
              "2                           1                       1   \n",
              "3                           1                       1   \n",
              "4                           0                       1   \n",
              "\n",
              "   Previous qualification (grade)  Nacionalidade  Mother's qualification  \\\n",
              "0                           122.0              1                      19   \n",
              "1                           160.0              1                       1   \n",
              "2                           122.0              1                      37   \n",
              "3                           122.0              1                      38   \n",
              "4                           100.0              1                      37   \n",
              "\n",
              "   Father's qualification  ...  Interacao_UC_1st_2nd_Aprovado  \\\n",
              "0                      12  ...                              0   \n",
              "1                       3  ...                             36   \n",
              "2                      37  ...                              0   \n",
              "3                      37  ...                             30   \n",
              "4                      38  ...                             30   \n",
              "\n",
              "   Interacao_UC_1st_2nd_Nota  Interacao_UC_1st_2nd_credited  \\\n",
              "0                   0.000000                              0   \n",
              "1                 191.333333                              0   \n",
              "2                   0.000000                              0   \n",
              "3                 166.514286                              0   \n",
              "4                 160.333333                              0   \n",
              "\n",
              "   Interacao_UC_1st_2nd_enrolled  Interacao_UC_1st_2nd_evaluations  \\\n",
              "0                              0                                 0   \n",
              "1                             36                                36   \n",
              "2                             36                                 0   \n",
              "3                             36                                64   \n",
              "4                             36                                81   \n",
              "\n",
              "   Total_UC_Aprovado  Total_UC_Credited  Total_UC_Enrolled  \\\n",
              "0                  0                  0                  0   \n",
              "1                 12                  0                 12   \n",
              "2                  0                  0                 12   \n",
              "3                 11                  0                 12   \n",
              "4                 11                  0                 12   \n",
              "\n",
              "   Total_UC_Evaluations  Total_UC_Nota  \n",
              "0                     0       0.000000  \n",
              "1                    12      13.833333  \n",
              "2                     0       0.000000  \n",
              "3                    18      12.914286  \n",
              "4                    15      12.666667  \n",
              "\n",
              "[5 rows x 37 columns]"
            ],
            "text/html": [
              "\n",
              "  <div id=\"df-cfd06f9f-1ca2-4414-a4c7-e60a48f2f350\" class=\"colab-df-container\">\n",
              "    <div>\n",
              "<style scoped>\n",
              "    .dataframe tbody tr th:only-of-type {\n",
              "        vertical-align: middle;\n",
              "    }\n",
              "\n",
              "    .dataframe tbody tr th {\n",
              "        vertical-align: top;\n",
              "    }\n",
              "\n",
              "    .dataframe thead th {\n",
              "        text-align: right;\n",
              "    }\n",
              "</style>\n",
              "<table border=\"1\" class=\"dataframe\">\n",
              "  <thead>\n",
              "    <tr style=\"text-align: right;\">\n",
              "      <th></th>\n",
              "      <th>Marital Status</th>\n",
              "      <th>Application mode</th>\n",
              "      <th>Application order</th>\n",
              "      <th>Course</th>\n",
              "      <th>Daytime/evening attendance</th>\n",
              "      <th>Previous qualification</th>\n",
              "      <th>Previous qualification (grade)</th>\n",
              "      <th>Nacionalidade</th>\n",
              "      <th>Mother's qualification</th>\n",
              "      <th>Father's qualification</th>\n",
              "      <th>...</th>\n",
              "      <th>Interacao_UC_1st_2nd_Aprovado</th>\n",
              "      <th>Interacao_UC_1st_2nd_Nota</th>\n",
              "      <th>Interacao_UC_1st_2nd_credited</th>\n",
              "      <th>Interacao_UC_1st_2nd_enrolled</th>\n",
              "      <th>Interacao_UC_1st_2nd_evaluations</th>\n",
              "      <th>Total_UC_Aprovado</th>\n",
              "      <th>Total_UC_Credited</th>\n",
              "      <th>Total_UC_Enrolled</th>\n",
              "      <th>Total_UC_Evaluations</th>\n",
              "      <th>Total_UC_Nota</th>\n",
              "    </tr>\n",
              "  </thead>\n",
              "  <tbody>\n",
              "    <tr>\n",
              "      <th>0</th>\n",
              "      <td>1</td>\n",
              "      <td>17</td>\n",
              "      <td>5</td>\n",
              "      <td>171</td>\n",
              "      <td>1</td>\n",
              "      <td>1</td>\n",
              "      <td>122.0</td>\n",
              "      <td>1</td>\n",
              "      <td>19</td>\n",
              "      <td>12</td>\n",
              "      <td>...</td>\n",
              "      <td>0</td>\n",
              "      <td>0.000000</td>\n",
              "      <td>0</td>\n",
              "      <td>0</td>\n",
              "      <td>0</td>\n",
              "      <td>0</td>\n",
              "      <td>0</td>\n",
              "      <td>0</td>\n",
              "      <td>0</td>\n",
              "      <td>0.000000</td>\n",
              "    </tr>\n",
              "    <tr>\n",
              "      <th>1</th>\n",
              "      <td>1</td>\n",
              "      <td>15</td>\n",
              "      <td>1</td>\n",
              "      <td>9254</td>\n",
              "      <td>1</td>\n",
              "      <td>1</td>\n",
              "      <td>160.0</td>\n",
              "      <td>1</td>\n",
              "      <td>1</td>\n",
              "      <td>3</td>\n",
              "      <td>...</td>\n",
              "      <td>36</td>\n",
              "      <td>191.333333</td>\n",
              "      <td>0</td>\n",
              "      <td>36</td>\n",
              "      <td>36</td>\n",
              "      <td>12</td>\n",
              "      <td>0</td>\n",
              "      <td>12</td>\n",
              "      <td>12</td>\n",
              "      <td>13.833333</td>\n",
              "    </tr>\n",
              "    <tr>\n",
              "      <th>2</th>\n",
              "      <td>1</td>\n",
              "      <td>1</td>\n",
              "      <td>5</td>\n",
              "      <td>9070</td>\n",
              "      <td>1</td>\n",
              "      <td>1</td>\n",
              "      <td>122.0</td>\n",
              "      <td>1</td>\n",
              "      <td>37</td>\n",
              "      <td>37</td>\n",
              "      <td>...</td>\n",
              "      <td>0</td>\n",
              "      <td>0.000000</td>\n",
              "      <td>0</td>\n",
              "      <td>36</td>\n",
              "      <td>0</td>\n",
              "      <td>0</td>\n",
              "      <td>0</td>\n",
              "      <td>12</td>\n",
              "      <td>0</td>\n",
              "      <td>0.000000</td>\n",
              "    </tr>\n",
              "    <tr>\n",
              "      <th>3</th>\n",
              "      <td>1</td>\n",
              "      <td>17</td>\n",
              "      <td>2</td>\n",
              "      <td>9773</td>\n",
              "      <td>1</td>\n",
              "      <td>1</td>\n",
              "      <td>122.0</td>\n",
              "      <td>1</td>\n",
              "      <td>38</td>\n",
              "      <td>37</td>\n",
              "      <td>...</td>\n",
              "      <td>30</td>\n",
              "      <td>166.514286</td>\n",
              "      <td>0</td>\n",
              "      <td>36</td>\n",
              "      <td>64</td>\n",
              "      <td>11</td>\n",
              "      <td>0</td>\n",
              "      <td>12</td>\n",
              "      <td>18</td>\n",
              "      <td>12.914286</td>\n",
              "    </tr>\n",
              "    <tr>\n",
              "      <th>4</th>\n",
              "      <td>2</td>\n",
              "      <td>39</td>\n",
              "      <td>1</td>\n",
              "      <td>8014</td>\n",
              "      <td>0</td>\n",
              "      <td>1</td>\n",
              "      <td>100.0</td>\n",
              "      <td>1</td>\n",
              "      <td>37</td>\n",
              "      <td>38</td>\n",
              "      <td>...</td>\n",
              "      <td>30</td>\n",
              "      <td>160.333333</td>\n",
              "      <td>0</td>\n",
              "      <td>36</td>\n",
              "      <td>81</td>\n",
              "      <td>11</td>\n",
              "      <td>0</td>\n",
              "      <td>12</td>\n",
              "      <td>15</td>\n",
              "      <td>12.666667</td>\n",
              "    </tr>\n",
              "  </tbody>\n",
              "</table>\n",
              "<p>5 rows × 37 columns</p>\n",
              "</div>\n",
              "    <div class=\"colab-df-buttons\">\n",
              "\n",
              "  <div class=\"colab-df-container\">\n",
              "    <button class=\"colab-df-convert\" onclick=\"convertToInteractive('df-cfd06f9f-1ca2-4414-a4c7-e60a48f2f350')\"\n",
              "            title=\"Convert this dataframe to an interactive table.\"\n",
              "            style=\"display:none;\">\n",
              "\n",
              "  <svg xmlns=\"http://www.w3.org/2000/svg\" height=\"24px\" viewBox=\"0 -960 960 960\">\n",
              "    <path d=\"M120-120v-720h720v720H120Zm60-500h600v-160H180v160Zm220 220h160v-160H400v160Zm0 220h160v-160H400v160ZM180-400h160v-160H180v160Zm440 0h160v-160H620v160ZM180-180h160v-160H180v160Zm440 0h160v-160H620v160Z\"/>\n",
              "  </svg>\n",
              "    </button>\n",
              "\n",
              "  <style>\n",
              "    .colab-df-container {\n",
              "      display:flex;\n",
              "      gap: 12px;\n",
              "    }\n",
              "\n",
              "    .colab-df-convert {\n",
              "      background-color: #E8F0FE;\n",
              "      border: none;\n",
              "      border-radius: 50%;\n",
              "      cursor: pointer;\n",
              "      display: none;\n",
              "      fill: #1967D2;\n",
              "      height: 32px;\n",
              "      padding: 0 0 0 0;\n",
              "      width: 32px;\n",
              "    }\n",
              "\n",
              "    .colab-df-convert:hover {\n",
              "      background-color: #E2EBFA;\n",
              "      box-shadow: 0px 1px 2px rgba(60, 64, 67, 0.3), 0px 1px 3px 1px rgba(60, 64, 67, 0.15);\n",
              "      fill: #174EA6;\n",
              "    }\n",
              "\n",
              "    .colab-df-buttons div {\n",
              "      margin-bottom: 4px;\n",
              "    }\n",
              "\n",
              "    [theme=dark] .colab-df-convert {\n",
              "      background-color: #3B4455;\n",
              "      fill: #D2E3FC;\n",
              "    }\n",
              "\n",
              "    [theme=dark] .colab-df-convert:hover {\n",
              "      background-color: #434B5C;\n",
              "      box-shadow: 0px 1px 3px 1px rgba(0, 0, 0, 0.15);\n",
              "      filter: drop-shadow(0px 1px 2px rgba(0, 0, 0, 0.3));\n",
              "      fill: #FFFFFF;\n",
              "    }\n",
              "  </style>\n",
              "\n",
              "    <script>\n",
              "      const buttonEl =\n",
              "        document.querySelector('#df-cfd06f9f-1ca2-4414-a4c7-e60a48f2f350 button.colab-df-convert');\n",
              "      buttonEl.style.display =\n",
              "        google.colab.kernel.accessAllowed ? 'block' : 'none';\n",
              "\n",
              "      async function convertToInteractive(key) {\n",
              "        const element = document.querySelector('#df-cfd06f9f-1ca2-4414-a4c7-e60a48f2f350');\n",
              "        const dataTable =\n",
              "          await google.colab.kernel.invokeFunction('convertToInteractive',\n",
              "                                                    [key], {});\n",
              "        if (!dataTable) return;\n",
              "\n",
              "        const docLinkHtml = 'Like what you see? Visit the ' +\n",
              "          '<a target=\"_blank\" href=https://colab.research.google.com/notebooks/data_table.ipynb>data table notebook</a>'\n",
              "          + ' to learn more about interactive tables.';\n",
              "        element.innerHTML = '';\n",
              "        dataTable['output_type'] = 'display_data';\n",
              "        await google.colab.output.renderOutput(dataTable, element);\n",
              "        const docLink = document.createElement('div');\n",
              "        docLink.innerHTML = docLinkHtml;\n",
              "        element.appendChild(docLink);\n",
              "      }\n",
              "    </script>\n",
              "  </div>\n",
              "\n",
              "\n",
              "<div id=\"df-f5a1778c-7117-4cb4-8683-a53b5d839aab\">\n",
              "  <button class=\"colab-df-quickchart\" onclick=\"quickchart('df-f5a1778c-7117-4cb4-8683-a53b5d839aab')\"\n",
              "            title=\"Suggest charts\"\n",
              "            style=\"display:none;\">\n",
              "\n",
              "<svg xmlns=\"http://www.w3.org/2000/svg\" height=\"24px\"viewBox=\"0 0 24 24\"\n",
              "     width=\"24px\">\n",
              "    <g>\n",
              "        <path d=\"M19 3H5c-1.1 0-2 .9-2 2v14c0 1.1.9 2 2 2h14c1.1 0 2-.9 2-2V5c0-1.1-.9-2-2-2zM9 17H7v-7h2v7zm4 0h-2V7h2v10zm4 0h-2v-4h2v4z\"/>\n",
              "    </g>\n",
              "</svg>\n",
              "  </button>\n",
              "\n",
              "<style>\n",
              "  .colab-df-quickchart {\n",
              "      --bg-color: #E8F0FE;\n",
              "      --fill-color: #1967D2;\n",
              "      --hover-bg-color: #E2EBFA;\n",
              "      --hover-fill-color: #174EA6;\n",
              "      --disabled-fill-color: #AAA;\n",
              "      --disabled-bg-color: #DDD;\n",
              "  }\n",
              "\n",
              "  [theme=dark] .colab-df-quickchart {\n",
              "      --bg-color: #3B4455;\n",
              "      --fill-color: #D2E3FC;\n",
              "      --hover-bg-color: #434B5C;\n",
              "      --hover-fill-color: #FFFFFF;\n",
              "      --disabled-bg-color: #3B4455;\n",
              "      --disabled-fill-color: #666;\n",
              "  }\n",
              "\n",
              "  .colab-df-quickchart {\n",
              "    background-color: var(--bg-color);\n",
              "    border: none;\n",
              "    border-radius: 50%;\n",
              "    cursor: pointer;\n",
              "    display: none;\n",
              "    fill: var(--fill-color);\n",
              "    height: 32px;\n",
              "    padding: 0;\n",
              "    width: 32px;\n",
              "  }\n",
              "\n",
              "  .colab-df-quickchart:hover {\n",
              "    background-color: var(--hover-bg-color);\n",
              "    box-shadow: 0 1px 2px rgba(60, 64, 67, 0.3), 0 1px 3px 1px rgba(60, 64, 67, 0.15);\n",
              "    fill: var(--button-hover-fill-color);\n",
              "  }\n",
              "\n",
              "  .colab-df-quickchart-complete:disabled,\n",
              "  .colab-df-quickchart-complete:disabled:hover {\n",
              "    background-color: var(--disabled-bg-color);\n",
              "    fill: var(--disabled-fill-color);\n",
              "    box-shadow: none;\n",
              "  }\n",
              "\n",
              "  .colab-df-spinner {\n",
              "    border: 2px solid var(--fill-color);\n",
              "    border-color: transparent;\n",
              "    border-bottom-color: var(--fill-color);\n",
              "    animation:\n",
              "      spin 1s steps(1) infinite;\n",
              "  }\n",
              "\n",
              "  @keyframes spin {\n",
              "    0% {\n",
              "      border-color: transparent;\n",
              "      border-bottom-color: var(--fill-color);\n",
              "      border-left-color: var(--fill-color);\n",
              "    }\n",
              "    20% {\n",
              "      border-color: transparent;\n",
              "      border-left-color: var(--fill-color);\n",
              "      border-top-color: var(--fill-color);\n",
              "    }\n",
              "    30% {\n",
              "      border-color: transparent;\n",
              "      border-left-color: var(--fill-color);\n",
              "      border-top-color: var(--fill-color);\n",
              "      border-right-color: var(--fill-color);\n",
              "    }\n",
              "    40% {\n",
              "      border-color: transparent;\n",
              "      border-right-color: var(--fill-color);\n",
              "      border-top-color: var(--fill-color);\n",
              "    }\n",
              "    60% {\n",
              "      border-color: transparent;\n",
              "      border-right-color: var(--fill-color);\n",
              "    }\n",
              "    80% {\n",
              "      border-color: transparent;\n",
              "      border-right-color: var(--fill-color);\n",
              "      border-bottom-color: var(--fill-color);\n",
              "    }\n",
              "    90% {\n",
              "      border-color: transparent;\n",
              "      border-bottom-color: var(--fill-color);\n",
              "    }\n",
              "  }\n",
              "</style>\n",
              "\n",
              "  <script>\n",
              "    async function quickchart(key) {\n",
              "      const quickchartButtonEl =\n",
              "        document.querySelector('#' + key + ' button');\n",
              "      quickchartButtonEl.disabled = true;  // To prevent multiple clicks.\n",
              "      quickchartButtonEl.classList.add('colab-df-spinner');\n",
              "      try {\n",
              "        const charts = await google.colab.kernel.invokeFunction(\n",
              "            'suggestCharts', [key], {});\n",
              "      } catch (error) {\n",
              "        console.error('Error during call to suggestCharts:', error);\n",
              "      }\n",
              "      quickchartButtonEl.classList.remove('colab-df-spinner');\n",
              "      quickchartButtonEl.classList.add('colab-df-quickchart-complete');\n",
              "    }\n",
              "    (() => {\n",
              "      let quickchartButtonEl =\n",
              "        document.querySelector('#df-f5a1778c-7117-4cb4-8683-a53b5d839aab button');\n",
              "      quickchartButtonEl.style.display =\n",
              "        google.colab.kernel.accessAllowed ? 'block' : 'none';\n",
              "    })();\n",
              "  </script>\n",
              "</div>\n",
              "\n",
              "    </div>\n",
              "  </div>\n"
            ],
            "application/vnd.google.colaboratory.intrinsic+json": {
              "type": "dataframe",
              "variable_name": "df"
            }
          },
          "metadata": {},
          "execution_count": 19
        }
      ]
    },
    {
      "cell_type": "markdown",
      "source": [
        "## Data Mining\n",
        "\n",
        "Sessão que iremos aplicar as técnicas discutidas pelo grupo, tanto Regressão quanto Classificação dentro da base de dados"
      ],
      "metadata": {
        "id": "_6lqqSgfaOwm"
      }
    },
    {
      "cell_type": "markdown",
      "source": [
        "### Regressão\n",
        "Objetivos:\n",
        "- Previsão do Desempenho Acadêmico\n",
        "- Análise de Impacto de Variáveis\n"
      ],
      "metadata": {
        "id": "1fb2AEAnSATB"
      }
    },
    {
      "cell_type": "markdown",
      "source": [],
      "metadata": {
        "id": "dJ6iLWFVzg6u"
      }
    },
    {
      "cell_type": "markdown",
      "source": [
        "##### Padronização dos Dados"
      ],
      "metadata": {
        "id": "exUUz4LJt_xH"
      }
    },
    {
      "cell_type": "markdown",
      "source": [
        "[Documentação do SelectKBest](https://scikit-learn.org/stable/modules/generated/sklearn.feature_selection.SelectKBest.html)\n",
        "\n",
        "-------\n",
        "SelectKBest: \\\n",
        "Seleciona as melhores características do conjunto de dados é fundamental para melhorar a qualidade do modelo, e ela é uma ferramenta eficaz para isso. Com base em critérios de pontuação específicos, ele reduz a dimensionalidade dos dados, mantendo apenas as características mais informativas. Essa abordagem não apenas otimiza o desempenho do modelo, mas também ajuda a mitigar problemas de overfitting, resultando em modelos mais eficientes e generalizáveis."
      ],
      "metadata": {
        "id": "Jkkvwrynhq74"
      }
    },
    {
      "cell_type": "code",
      "source": [
        "rdf = df.copy()\n",
        "rdf = rdf[rdf[\"Status\"] != 0]"
      ],
      "metadata": {
        "id": "HdQ6G_1oxX5K"
      },
      "execution_count": null,
      "outputs": []
    },
    {
      "cell_type": "code",
      "source": [
        "categorical_target = df.copy()\n",
        "categorical_target = categorical_target[categorical_target[\"Status\"] != 0]"
      ],
      "metadata": {
        "id": "TVs-EgreuXW0"
      },
      "execution_count": null,
      "outputs": []
    },
    {
      "cell_type": "markdown",
      "source": [
        " Utiliza o método SelectKBest para selecionar as melhores características do conjunto de dados com base em testes estatísticos de regressão e retorna os nomes das características selecionadas. Isso é útil para reduzir a dimensionalidade do conjunto de dados, mantendo apenas as características mais informativas."
      ],
      "metadata": {
        "id": "qcdPSOYNl6nd"
      }
    },
    {
      "cell_type": "code",
      "source": [
        "selector = SelectKBest(score_func=f_regression, k=\"all\")\n",
        "selected_features = selector.fit_transform(rdf, rdf[\"Status\"])\n",
        "selected_columns = rdf.columns[selector.get_support()]"
      ],
      "metadata": {
        "id": "wxgzKxJwx4pi"
      },
      "execution_count": null,
      "outputs": []
    },
    {
      "cell_type": "markdown",
      "source": [
        "Ajuste de um objeto StandardScaler aos dados e, em seguida, aplicando essa normalização tanto ao conjunto de dados inteiro quanto a um subconjunto específico de colunas. Útil para garantir que os dados estejam prontos para serem usados em modelos de aprendizado de máquina."
      ],
      "metadata": {
        "id": "_OibqUWzq15F"
      }
    },
    {
      "cell_type": "code",
      "source": [
        "scaler = StandardScaler()\n",
        "scaled_data = scaler.fit_transform(rdf)\n",
        "rdf[selected_columns] = scaler.fit_transform(rdf[selected_columns])"
      ],
      "metadata": {
        "id": "Xg5hg2DmhMkf"
      },
      "execution_count": null,
      "outputs": []
    },
    {
      "cell_type": "code",
      "source": [
        "filtered_df = rdf[selected_columns]"
      ],
      "metadata": {
        "id": "Zll7Sqfkl_6M"
      },
      "execution_count": null,
      "outputs": []
    },
    {
      "cell_type": "markdown",
      "source": [
        "#### Previsão do Desempenho Acadêmico\n",
        "\n",
        "Regressão Logística\n",
        "\n",
        "---\n",
        "Prever o desempenho acadêmico dos alunos ao longo do curso com base em uma\n",
        "variedade de variáveis, como notas de admissão, qualificações anteriores, e o histórico\n",
        "socioeconômico dos alunos. Isso permite identificar padrões e fatores que influenciam\n",
        "positiva ou negativamente no desempenho dos alunos.\n",
        "\n",
        "\n",
        "---\n",
        "- Coluna target\n",
        "  - Status\n",
        "- Colunas features\n",
        "  - Interacao_UC_1st_2nd_Aprovado\n",
        "  - Interacao_UC_1st_2nd_Nota\n",
        "  - Total_UC_Aprovado\n",
        "  - Total_UC_Nota\n",
        "  - Admission grade\n",
        "  - Previous qualification (grade)\n"
      ],
      "metadata": {
        "id": "EFTv-pMmk48f"
      }
    },
    {
      "cell_type": "code",
      "source": [
        "X = filtered_df[[\n",
        "  \"Interacao_UC_1st_2nd_Aprovado\",\n",
        "  \"Interacao_UC_1st_2nd_Nota\",\n",
        "  \"Interacao_UC_1st_2nd_credited\",\n",
        "  \"Interacao_UC_1st_2nd_enrolled\",\n",
        "  \"Interacao_UC_1st_2nd_evaluations\",\n",
        "  \"Total_UC_Aprovado\",\n",
        "  \"Total_UC_Credited\",\n",
        "  \"Total_UC_Enrolled\",\n",
        "  \"Total_UC_Evaluations\",\n",
        "  \"Total_UC_Nota\",\n",
        "  \"Admission grade\",\n",
        "  \"Previous qualification (grade)\"\n",
        "]]\n",
        "y = categorical_target['Status']"
      ],
      "metadata": {
        "id": "-svlbCuuk4ly"
      },
      "execution_count": null,
      "outputs": []
    },
    {
      "cell_type": "markdown",
      "source": [
        "Inicialização de um dicionario com vários parametros, para que o GridSearchCV ache o melhor entre eles.\n",
        "\n",
        "---\n",
        "[Documentação do LogisticRegression](https://scikit-learn.org/stable/modules/generated/sklearn.linear_model.LogisticRegression.html)\n",
        "\n",
        "---\n",
        "[Documentação do GridSearchCV](https://scikit-learn.org/stable/modules/generated/sklearn.model_selection.GridSearchCV.html)\n",
        "\n",
        "---\n",
        "**LogisticRegression**\n",
        "- C \\\n",
        "  Este parâmetro é o inverso da força de regularização. Valores menores de C especificam uma regularização mais forte, o que pode levar a modelos mais simples que são menos propensos ao overfitting. Por outro lado, valores maiores de C reduzem a regularização, permitindo que o modelo se ajuste mais aos dados de treinamento. Deve ser um número positivo.\n",
        "\n",
        "- Solver \\\n",
        "Este parâmetro especifica o algoritmo a ser usado para otimizar a função de perda. As opções disponíveis são:\n",
        "  - liblinear\n",
        "  > Um algoritmo de otimização para problemas de regressão logística. É recomendado para conjuntos de dados pequenos.\n",
        "  - newton-cg\n",
        "  > Usa o método de Newton-Conjugate Gradient para otimização. É adequado para problemas de grande escala.\n",
        "  - lbfgs\n",
        "  > Usa o método de Quase-Newton BFGS para otimização. É eficiente para grandes conjuntos de dados.\n",
        "  - sag\n",
        "  > Usa o método Stochastic Average Gradient Descent para otimização. É eficiente para grandes conjuntos de dados.\n",
        "  - saga\n",
        "  > É uma versão otimizada de sag que também suporta a penalidade elasticnet.\n",
        "\n",
        "- Penalty \\\n",
        "Este parâmetro especifica a regra de penalização que o algoritmo vai sofrer durante a otimização. As opções disponíveis são:\n",
        "\n",
        "  - None\n",
        "  > Sem penalidade. O modelo tentará ajustar os dados de treinamento sem penalização adicional.\n",
        "  - l1\n",
        "  > Penalidade de norma L1, que adiciona o valor absoluto dos coeficientes à função de perda.\n",
        "  - l2\n",
        "  > Penalidade de norma L2, que adiciona o quadrado dos coeficientes à função de perda.\n",
        "  - elasticnet\n",
        "  > Combinação linear de penalidades l1 e l2.\n",
        "\n",
        "- Multi_class \\\n",
        "Este parâmetro especifica como o modelo deve tratar problemas de classificação multiclasse. As opções disponíveis são:\n",
        "\n",
        "  - auto\n",
        "  > O modelo escolherá automaticamente o esquema de classificação mais adequado com base na natureza dos dados.\n",
        "  - ovr (One-vs-Rest)\n",
        "  > O modelo criará um classificador binário separado para cada classe.\n",
        "  - multinomial\n",
        "  > O modelo criará um classificador multinomial, que considera todas as classes simultaneamente. Isso geralmente é mais eficiente, especialmente para um grande número de classes."
      ],
      "metadata": {
        "id": "taWmcePjAjvu"
      }
    },
    {
      "cell_type": "code",
      "source": [
        "param_grid = {'C': [0.01], 'multi_class': ['auto'], 'penalty': ['l2'], 'solver': ['liblinear']}"
      ],
      "metadata": {
        "id": "l7FzU-31yxUA"
      },
      "execution_count": null,
      "outputs": []
    },
    {
      "cell_type": "markdown",
      "source": [
        "- **LogisticRegression**\n",
        "  - max_iter: máximo de iterações permitidas para a convergência do algoritmo. Isso significa que, se o algoritmo não convergir para uma solução dentro do número especificado de iterações, ele irá parar de iterar, mesmo que não tenha alcançado a convergência ideal\n",
        "---\n",
        "\n",
        "- **GridSearchCV**\n",
        "  - model: Instância de um modelo de aprendizado de máquina, por exemplo, LogisticRegression().\n",
        "\n",
        "  - param_grid: Dicionário onde as chaves são os nomes dos parâmetros que você deseja ajustar e os valores são as listas de valores a serem testados para cada parâmetro.\n",
        "\n",
        "  - cv: Folds para a validação cruzada. Neste caso, cv=5 indica validação cruzada com 5 dobras.\n",
        "\n",
        "  - scoring: Esta é a métrica usada para avaliar a qualidade do modelo.\n",
        "\n",
        "  - verbose: Controla a quantidade de informações impressas durante o ajuste do modelo.\n",
        "\n",
        "  - n_jobs: Número de trabalhos a serem executados em paralelo durante o ajuste do modelo. Configurá-lo como -1 significa usar todos os processadores disponíveis. Isso pode acelerar significativamente o processo de ajuste do modelo, especialmente se você estiver ajustando muitos modelos ou se cada ajuste demorar muito tempo."
      ],
      "metadata": {
        "id": "kqZwpmYkRuOI"
      }
    },
    {
      "cell_type": "code",
      "source": [
        "model = LogisticRegression(max_iter=1000)\n",
        "grid_search = GridSearchCV(model, param_grid, cv=5, scoring='accuracy', verbose=1, n_jobs=-1)"
      ],
      "metadata": {
        "id": "p6c9TmFLy2-5"
      },
      "execution_count": null,
      "outputs": []
    },
    {
      "cell_type": "markdown",
      "source": [
        "Aqui realizamos o treinamento do nosso modelo, onde `X` e `y` representam as variáveis contendo nossos recursos e nossa coluna alvo, respectivamente.\n",
        "\n",
        "---\n",
        "Definimos que 30% de todo o nosso conjunto de dados será reservado para testes, enquanto os 70% restantes serão usados como conjunto de treinamento.\n",
        "\n",
        "---\n",
        "O parâmetro `random_state` assegura a reprodutibilidade da mesma divisão de teste, garantindo consistência nos resultados sempre que o código for executado com o mesmo valor de `random_state`."
      ],
      "metadata": {
        "id": "TeydxwDdhR0s"
      }
    },
    {
      "cell_type": "code",
      "source": [
        "X_train, X_test, y_train, y_test = train_test_split(X, y, test_size=0.33, random_state=42)"
      ],
      "metadata": {
        "id": "OfTzASyJnPw8"
      },
      "execution_count": null,
      "outputs": []
    },
    {
      "cell_type": "markdown",
      "source": [
        "Aqui, realizamos a busca em grade para encontrar os melhores hiperparâmetros do modelo usando o conjunto de treinamento. \\\n",
        "O algoritmo irá ajustar diferentes combinações de hiperparâmetros especificados em param_grid e avaliará o desempenho de cada modelo usando validação cruzada. Ao final, teremos o modelo com os melhores parâmetros de acordo com a métrica de avaliação especificada."
      ],
      "metadata": {
        "id": "yakcCG19lEad"
      }
    },
    {
      "cell_type": "code",
      "source": [
        "grid_search.fit(X_train, y_train)\n",
        "best_params = grid_search.best_params_\n",
        "print(\"Melhores hiperparâmetros encontrados:\", best_params)"
      ],
      "metadata": {
        "id": "HCArx-M2z4gp",
        "colab": {
          "base_uri": "https://localhost:8080/"
        },
        "outputId": "a6bac12c-c477-4856-e875-fae17735546f"
      },
      "execution_count": null,
      "outputs": [
        {
          "output_type": "stream",
          "name": "stdout",
          "text": [
            "Fitting 5 folds for each of 1 candidates, totalling 5 fits\n",
            "Melhores hiperparâmetros encontrados: {'C': 0.01, 'multi_class': 'auto', 'penalty': 'l2', 'solver': 'liblinear'}\n"
          ]
        }
      ]
    },
    {
      "cell_type": "markdown",
      "source": [
        "- best_model \\\n",
        "Atribuição do melhor estimador encontrado durante a busca em grade à variável best_model, permitindo seu uso posterior para fazer previsões ou avaliar o modelo.\n",
        "- y_pred \\\n",
        "Predição das classes alvo usando o melhor modelo encontrado."
      ],
      "metadata": {
        "id": "Lg6FfgDQlf8X"
      }
    },
    {
      "cell_type": "code",
      "source": [
        "best_model = grid_search.best_estimator_\n",
        "y_pred = best_model.predict(X_test)"
      ],
      "metadata": {
        "id": "jD-1Z1G6z27W"
      },
      "execution_count": null,
      "outputs": []
    },
    {
      "cell_type": "markdown",
      "source": [
        "**Relatorio de precisão**\n",
        "\n",
        "---\n",
        "- Precision\n",
        "  > A precisão é a proporção de verdadeiros positivos (TP) em relação a todos os exemplos classificados como positivos (TP + falsos positivos - FP). Em outras palavras, é a capacidade do classificador de não rotular erroneamente uma amostra negativa como positiva.\n",
        "\n",
        "- Recall / Sensibilidade\n",
        "  > O recall é a proporção de verdadeiros positivos (TP) em relação a todos os exemplos que realmente pertencem à classe positiva (TP + falsos negativos - FN). É a capacidade do classificador de encontrar todos os exemplos positivos\n",
        "\n",
        "- F1-score\n",
        "  > O F1-score é a média harmônica entre a precisão e o recall. Ele fornece uma medida única que equilibra precisão e recall.\n",
        "\n",
        "- Support\n",
        "  > O suporte é o número de ocorrências de cada classe no conjunto de dados.\n",
        "\n",
        "- Accuracy\n",
        "  > A acurácia é a proporção de exemplos corretamente classificados em relação ao total de exemplos.\n",
        "\n",
        "- Macro AVG\n",
        "  > A média macro é a média não ponderada das métricas de cada classe. Neste caso, a precisão, o recall e o F1-score são calculados separadamente para cada classe e, em seguida, a média é tomada.\n",
        "  \n",
        "- Weighted AVG\n",
        "  > A média ponderada é a média das métricas de cada classe, onde cada métrica é ponderada pelo suporte da classe correspondente. Isso significa que classes com mais exemplos têm uma contribuição maior para a média."
      ],
      "metadata": {
        "id": "vOONTayk-CMx"
      }
    },
    {
      "cell_type": "code",
      "source": [
        "print(classification_report(y_test, y_pred))"
      ],
      "metadata": {
        "id": "JbIAlrJNnolC",
        "colab": {
          "base_uri": "https://localhost:8080/"
        },
        "outputId": "e654419f-9698-4133-d7cd-89d31eec4d77"
      },
      "execution_count": null,
      "outputs": [
        {
          "output_type": "stream",
          "name": "stdout",
          "text": [
            "              precision    recall  f1-score   support\n",
            "\n",
            "           1       0.87      0.96      0.91       731\n",
            "           2       0.92      0.78      0.84       467\n",
            "\n",
            "    accuracy                           0.89      1198\n",
            "   macro avg       0.90      0.87      0.88      1198\n",
            "weighted avg       0.89      0.89      0.89      1198\n",
            "\n"
          ]
        }
      ]
    },
    {
      "cell_type": "markdown",
      "source": [
        "**Acurácia**\n",
        "\n",
        "---\n",
        "Cálculo da acurácia do modelo, que é a proporção de previsões corretas em relação ao total de previsões feitas."
      ],
      "metadata": {
        "id": "iNXdlwWH5BcK"
      }
    },
    {
      "cell_type": "code",
      "source": [
        "accuracy = accuracy_score(y_test, y_pred)\n",
        "print(\"Acurácia do modelo com melhores hiperparâmetros: {:.2f}%\".format(accuracy * 100))"
      ],
      "metadata": {
        "id": "srqEvUUq48JG",
        "colab": {
          "base_uri": "https://localhost:8080/"
        },
        "outputId": "b2780775-b3a2-46fc-c59d-6d75c3e2336c"
      },
      "execution_count": null,
      "outputs": [
        {
          "output_type": "stream",
          "name": "stdout",
          "text": [
            "Acurácia do modelo com melhores hiperparâmetros: 88.73%\n"
          ]
        }
      ]
    },
    {
      "cell_type": "markdown",
      "source": [
        "**Erro médio quadrático**\n",
        "\n",
        "Medida da qualidade de um estimador. Ele mede a média dos quadrados dos erros, ou seja, a diferença entre os valores previstos pelo modelo e os valores reais. O MSE é calculado pela média das diferenças ao quadrado entre os valores previstos e os valores reais. Quanto menor o MSE, melhor é o ajuste do modelo aos dados.\n",
        "\n",
        "---\n",
        "**Erro Absoluto Médio**\n",
        "\n",
        "Medida de erro, mas em vez de elevar os erros ao quadrado, ele simplesmente calcula a média das diferenças absolutas entre os valores previstos e os valores reais. Ele fornece uma ideia da magnitude média dos erros no conjunto de dados. Assim como o MSE, um valor menor de MAE indica um melhor ajuste do modelo.\n",
        "\n",
        "---\n",
        "**Erro Quadrático Médio**\n",
        "\n",
        "O RMSE é a raiz quadrada do MSE. Ele tem a mesma unidade que a variável de interesse e é interpretado como a média do erro nos mesmos termos da variável de interesse. O RMSE é frequentemente usado porque fornece uma interpretação intuitiva dos erros em uma escala similar à dos dados originais."
      ],
      "metadata": {
        "id": "se-RfxFZ7V-p"
      }
    },
    {
      "cell_type": "code",
      "source": [
        "mse = mean_squared_error(y_test, y_pred)\n",
        "mae = mean_absolute_error(y_test, y_pred)\n",
        "rmse = mean_squared_error(y_test, y_pred, squared=False)\n",
        "print(\"Erro médio quadrático (MSE):\", mse)\n",
        "print(\"Erro absoluto médio (MAE):\", mae)\n",
        "print(\"Erro quadrático médio (RMSE):\", rmse)"
      ],
      "metadata": {
        "id": "dj9Mzz_d4dvQ",
        "colab": {
          "base_uri": "https://localhost:8080/"
        },
        "outputId": "62d40404-8f71-4f6d-d9cc-6f406a3bbe61"
      },
      "execution_count": null,
      "outputs": [
        {
          "output_type": "stream",
          "name": "stdout",
          "text": [
            "Erro médio quadrático (MSE): 0.11268781302170283\n",
            "Erro absoluto médio (MAE): 0.11268781302170283\n",
            "Erro quadrático médio (RMSE): 0.33569005499374394\n"
          ]
        }
      ]
    },
    {
      "cell_type": "markdown",
      "source": [
        "##### Gráficos e resultados"
      ],
      "metadata": {
        "id": "P39YTbTB8yYB"
      }
    },
    {
      "cell_type": "markdown",
      "source": [
        "###### Gráfico de Barras\n",
        "\n",
        "-----\n"
      ],
      "metadata": {
        "id": "rByr5rVp9pwP"
      }
    },
    {
      "cell_type": "code",
      "source": [
        "# Valores que o modelo previu\n",
        "predict_graduate = np.sum((y_pred == 1))\n",
        "predict_dropout = np.sum((y_pred == 2))\n",
        "# Valores corretos que o modelo previu\n",
        "correct_graduate = np.sum((y_test == 1) & (y_pred == 1))\n",
        "correct_dropout = np.sum((y_test == 2) & (y_pred == 2))\n",
        "# Valores verdadeiros\n",
        "true_graduate = np.sum(y_test == 1)\n",
        "true_dropout = np.sum(y_test == 2)"
      ],
      "metadata": {
        "id": "Ataxhbk4-F8S"
      },
      "execution_count": null,
      "outputs": []
    },
    {
      "cell_type": "markdown",
      "source": [
        "- Graduate (Predição) \\\n",
        "Mostra quantos alunos o modelo previu corretamente que se formariam.\n",
        "\n",
        "- Dropout (Predição) \\\n",
        "Mostra quantos alunos o modelo previu corretamente que trancariam\n",
        "\n",
        "- Graduate  & Dropout (Predição Correta) \\\n",
        "Representa o número de alunos para os quais o modelo fez previsões corretas, ou seja, acertou se eles se formariam ou trancariam.\n",
        "\n",
        "- Graduate & Dropout (Reais) \\\n",
        "Refere-se ao número total de dados durante o teste que foi realizado e analisado, ou seja, é a quantidade total de alunos para os quais o modelo fez previsões."
      ],
      "metadata": {
        "id": "6LJpvK4ZAc4j"
      }
    },
    {
      "cell_type": "code",
      "source": [
        "# Definição dos labels e valores para Gradute\n",
        "graduate_labels = ['Graduate (Predição)',  'Graduate (Predição corretas)', 'Graduate (Reais)']\n",
        "graduate_values = [predict_graduate, correct_graduate, true_graduate]\n",
        "# Definição dos labels e valores para Dropout\n",
        "dropout_labels = ['Dropout (Predição)',  'Dropout (Predição corretas)', 'Dropout (Reais)']\n",
        "dropout_values = [predict_dropout, correct_dropout, true_dropout]"
      ],
      "metadata": {
        "id": "bW7HHPvZ-IMF"
      },
      "execution_count": null,
      "outputs": []
    },
    {
      "cell_type": "code",
      "source": [
        "plt.figure(figsize=(10, 6))\n",
        "sns.barplot(x=graduate_labels, y=graduate_values, hue=graduate_labels, palette=\"viridis\", dodge=False)\n",
        "for index, value in enumerate(graduate_values):\n",
        "    plt.text(index, value, str(value), ha='center', va='bottom')\n",
        "plt.ylabel('Count')\n",
        "plt.title('Predição dos Graduados')\n",
        "plt.tight_layout()\n",
        "plt.show()"
      ],
      "metadata": {
        "id": "o7DkAWNu1snQ",
        "colab": {
          "base_uri": "https://localhost:8080/",
          "height": 515
        },
        "outputId": "16fab0a9-fd24-4d73-8b53-a4afa5c1a601"
      },
      "execution_count": null,
      "outputs": [
        {
          "output_type": "display_data",
          "data": {
            "text/plain": [
              "<Figure size 1000x600 with 1 Axes>"
            ],
            "image/png": "[encoded data removed]"
          },
          "metadata": {}
        }
      ]
    },
    {
      "cell_type": "code",
      "source": [
        "plt.figure(figsize=(10, 6))\n",
        "sns.barplot(x=dropout_labels, y=dropout_values, hue=dropout_labels, palette=\"viridis\", dodge=False)\n",
        "for index, value in enumerate(dropout_values):\n",
        "    plt.text(index, value, str(value), ha='center', va='bottom')\n",
        "plt.ylabel('Count')\n",
        "plt.title('Predição dos Desistentes')\n",
        "plt.tight_layout()\n",
        "plt.show()"
      ],
      "metadata": {
        "id": "RdWtOQgJpGx2",
        "colab": {
          "base_uri": "https://localhost:8080/",
          "height": 515
        },
        "outputId": "d9cef48d-414e-4b83-e9d9-9d1d536d635f"
      },
      "execution_count": null,
      "outputs": [
        {
          "output_type": "display_data",
          "data": {
            "text/plain": [
              "<Figure size 1000x600 with 1 Axes>"
            ],
            "image/png": "[encoded data removed]"
          },
          "metadata": {}
        }
      ]
    },
    {
      "cell_type": "markdown",
      "source": [
        "Nesta análise, exploramos a possibilidade de quantificar quantos alunos teriam se formado se não tivessem abandonado a universidade por outros motivos. Para isso, examinamos suas trajetórias durante o primeiro e segundo semestres, levando em conta suas interações com disciplinas, notas obtidas, e a avaliação de admissão. Essa análise permite não apenas prever o desempenho acadêmico dos alunos, mas também entender como fatores como a interação com disciplinas, notas anteriores e a nota de admissão podem influenciar positiva ou negativamente sua permanência na universidade e, consequentemente, sua formatura.\n",
        "\n",
        "**Número de alunos previstos para se formar:** 804 \\\n",
        "**Número de alunos corretamente previstos para se\n",
        "formar**: 700 \\\n",
        "**Número total de alunos que se formaram**: 731 \\\n",
        "\n",
        "\n",
        "**Número de alunos previstos para abandonar:** 394 \\\n",
        "**Número de alunos corretamente previstos para abandonar**: 363 \\\n",
        "**Número total de alunos que abandonaram**: 467\n",
        "\n",
        "Esta análise não só fornece insights sobre os alunos que poderiam ter se formado, mas também destaca a importância de intervenções direcionadas para melhorar a retenção e o sucesso dos alunos ao longo de sua jornada universitária."
      ],
      "metadata": {
        "id": "9Kalc2vmHQc0"
      }
    },
    {
      "cell_type": "markdown",
      "source": [
        "#### Análise de Impacto de Variáveis\n",
        "\n",
        "Regressão Linear Multipla\n",
        "\n",
        "---\n",
        "Analisar o impacto de diferentes variáveis independentes (como a educação dos pais, a nacionalidade do aluno, entre outros) no resultado do aluno. Isso pode ajudar a entender quais fatores têm maior peso na determinação do sucesso acadêmico\n"
      ],
      "metadata": {
        "id": "rJdKJjYDdY9L"
      }
    },
    {
      "cell_type": "code",
      "source": [
        "rlm_df = filtered_df.copy()"
      ],
      "metadata": {
        "id": "6vTJrn4HTQXS"
      },
      "execution_count": null,
      "outputs": []
    },
    {
      "cell_type": "markdown",
      "source": [
        "[Documentação statsmodels](https://www.statsmodels.org/stable/index.html)\n",
        "\n",
        "----\n",
        "statsmodels: \\\n",
        "Biblioteca Python para análise estatística e modelagem de dados. Foi utilizada para realizar regressão linear múltipla, permitindo modelar a relação entre uma variável dependente e várias variáveis independentes ao mesmo tempo. A função **add_constant** é usada para garantir que o modelo tenha um termo constante para representar o intercepto na regressão."
      ],
      "metadata": {
        "id": "HIibjYoUTdiS"
      }
    },
    {
      "cell_type": "code",
      "source": [
        "X = rlm_df[['Marital Status', 'Application mode', 'Application order', 'Course', 'Daytime/evening attendance',\n",
        "          'Previous qualification', 'Previous qualification (grade)', 'Nacionalidade', 'Mother\\'s qualification',\n",
        "          'Father\\'s qualification', 'Mother\\'s occupation', 'Father\\'s occupation', 'Displaced',\n",
        "          'Educational special needs', 'Debtor', 'Tuition fees up to date', 'Gender', 'Scholarship holder',\n",
        "          'Age at enrollment']]\n",
        "y = rlm_df['Status']\n",
        "\n",
        "X = sm.add_constant(X)"
      ],
      "metadata": {
        "id": "H2Valg1pwJmj"
      },
      "execution_count": null,
      "outputs": []
    },
    {
      "cell_type": "markdown",
      "source": [
        "Criação de um modelo de Regressão Linear Ordinária (OLS) usando sm.OLS(y, X), onde y é a variável dependente e X é a matriz de variáveis independentes. O método .fit() ajusta o modelo aos dados, calculando os coeficientes que melhor se ajustam aos dados fornecidos."
      ],
      "metadata": {
        "id": "F_wrNIzDUsYK"
      }
    },
    {
      "cell_type": "code",
      "source": [
        "model = sm.OLS(y, X).fit()"
      ],
      "metadata": {
        "id": "R4ZArnALP7Yn"
      },
      "execution_count": null,
      "outputs": []
    },
    {
      "cell_type": "markdown",
      "source": [
        "Resultados da regressão linear múltipla ajustada ao  conjunto de dados.\n"
      ],
      "metadata": {
        "id": "MTOm5_bMVYcm"
      }
    },
    {
      "cell_type": "code",
      "source": [
        "print(model.summary())"
      ],
      "metadata": {
        "colab": {
          "base_uri": "https://localhost:8080/"
        },
        "id": "NHb_LGSrQByG",
        "outputId": "2ad0cc15-e9d4-45d3-8cb5-4e69dfd6583e"
      },
      "execution_count": null,
      "outputs": [
        {
          "output_type": "stream",
          "name": "stdout",
          "text": [
            "                            OLS Regression Results                            \n",
            "==============================================================================\n",
            "Dep. Variable:                 Status   R-squared:                       0.312\n",
            "Model:                            OLS   Adj. R-squared:                  0.308\n",
            "Method:                 Least Squares   F-statistic:                     86.10\n",
            "Date:                Sun, 02 Jun 2024   Prob (F-statistic):          2.20e-275\n",
            "Time:                        18:48:23   Log-Likelihood:                -4472.4\n",
            "No. Observations:                3630   AIC:                             8985.\n",
            "Df Residuals:                    3610   BIC:                             9109.\n",
            "Df Model:                          19                                         \n",
            "Covariance Type:            nonrobust                                         \n",
            "==================================================================================================\n",
            "                                     coef    std err          t      P>|t|      [0.025      0.975]\n",
            "--------------------------------------------------------------------------------------------------\n",
            "const                           2.841e-16      0.014   2.06e-14      1.000      -0.027       0.027\n",
            "Marital Status                    -0.0183      0.016     -1.115      0.265      -0.050       0.014\n",
            "Application mode                   0.1058      0.018      5.819      0.000       0.070       0.141\n",
            "Application order                  0.0010      0.015      0.064      0.949      -0.029       0.031\n",
            "Course                            -0.0232      0.014     -1.645      0.100      -0.051       0.004\n",
            "Daytime/evening attendance         0.0287      0.016      1.824      0.068      -0.002       0.060\n",
            "Previous qualification            -0.0473      0.015     -3.055      0.002      -0.078      -0.017\n",
            "Previous qualification (grade)    -0.0363      0.014     -2.548      0.011      -0.064      -0.008\n",
            "Nacionalidade                      0.0039      0.014      0.280      0.780      -0.023       0.031\n",
            "Mother's qualification             0.0289      0.017      1.695      0.090      -0.005       0.062\n",
            "Father's qualification            -0.0126      0.017     -0.759      0.448      -0.045       0.020\n",
            "Mother's occupation               -0.0419      0.030     -1.396      0.163      -0.101       0.017\n",
            "Father's occupation                0.0195      0.030      0.649      0.516      -0.039       0.078\n",
            "Displaced                         -0.0020      0.016     -0.126      0.900      -0.033       0.029\n",
            "Educational special needs          0.0225      0.014      1.623      0.105      -0.005       0.050\n",
            "Debtor                             0.0881      0.016      5.674      0.000       0.058       0.119\n",
            "Tuition fees up to date           -0.3224      0.016    -20.461      0.000      -0.353      -0.292\n",
            "Gender                             0.1362      0.015      9.317      0.000       0.108       0.165\n",
            "Scholarship holder                -0.1934      0.015    -13.258      0.000      -0.222      -0.165\n",
            "Age at enrollment                  0.0957      0.021      4.612      0.000       0.055       0.136\n",
            "==============================================================================\n",
            "Omnibus:                      417.013   Durbin-Watson:                   2.016\n",
            "Prob(Omnibus):                  0.000   Jarque-Bera (JB):              291.045\n",
            "Skew:                           0.584   Prob(JB):                     6.32e-64\n",
            "Kurtosis:                       2.253   Cond. No.                         5.28\n",
            "==============================================================================\n",
            "\n",
            "Notes:\n",
            "[1] Standard Errors assume that the covariance matrix of the errors is correctly specified.\n"
          ]
        }
      ]
    },
    {
      "cell_type": "markdown",
      "source": [
        "##### Gráficos e Resultados"
      ],
      "metadata": {
        "id": "t7jFWs_f4X2c"
      }
    },
    {
      "cell_type": "markdown",
      "source": [
        "Calculo dos resíduos do modelo ajustado, que representam a diferença entre os valores observados e os valores previstos pelo modelo de regressão. Em seguida, os resíduos são ordenados, facilitando a análise e identificação de padrões nos erros de previsão."
      ],
      "metadata": {
        "id": "HNw1o3fGVsNT"
      }
    },
    {
      "cell_type": "code",
      "source": [
        "residuals = model.resid\n",
        "residuals_sorted = sorted(residuals)"
      ],
      "metadata": {
        "id": "s5Iy8dHqzNNw"
      },
      "execution_count": null,
      "outputs": []
    },
    {
      "cell_type": "markdown",
      "source": [
        "###### Gráfico QQ"
      ],
      "metadata": {
        "id": "CgHAVF4SSrO1"
      }
    },
    {
      "cell_type": "markdown",
      "source": [
        "Calculo dos quantis teóricos de uma distribuição normal padronizada para uma série de resíduos classificados em ordem crescente"
      ],
      "metadata": {
        "id": "tsqwIZ8YWA6H"
      }
    },
    {
      "cell_type": "code",
      "source": [
        "norm_quantiles = [stats.norm.ppf(q=(i+1)/(len(residuals_sorted)+1)) for i in range(len(residuals_sorted))]"
      ],
      "metadata": {
        "id": "jd0RemhIRHlJ"
      },
      "execution_count": null,
      "outputs": []
    },
    {
      "cell_type": "code",
      "source": [
        "plt.scatter(norm_quantiles, sorted(residuals))\n",
        "plt.xlabel('Quantis teóricos (distribuição normal)')\n",
        "plt.ylabel('Resíduos ordenados')\n",
        "plt.title('Gráfico QQ dos resíduos')\n",
        "plt.plot([min(norm_quantiles), max(norm_quantiles)], [min(norm_quantiles), max(norm_quantiles)], color='r', linestyle='--')\n",
        "plt.show()"
      ],
      "metadata": {
        "colab": {
          "base_uri": "https://localhost:8080/"
        },
        "id": "O7NCwCBkRR7a",
        "outputId": "cdd50e6b-afbf-41a9-e336-740ae5bff225"
      },
      "execution_count": null,
      "outputs": [
        {
          "output_type": "display_data",
          "data": {
            "text/plain": [
              "<Figure size 640x480 with 1 Axes>"
            ],
            "image/png": "[encoded data removed]"
          },
          "metadata": {}
        }
      ]
    },
    {
      "cell_type": "markdown",
      "source": [
        "Com base na distribuição dos dados, é evidente que a maioria está próxima da linha central, mas uma parcela significativa está fora dessa faixa. Isso sugere que a base de dados não segue uma distribuição normal."
      ],
      "metadata": {
        "id": "OrNchHFL6Zan"
      }
    },
    {
      "cell_type": "markdown",
      "source": [
        "###### Histograma dos Resíduos"
      ],
      "metadata": {
        "id": "xo2G1KhNSt_W"
      }
    },
    {
      "cell_type": "code",
      "source": [
        "sns.histplot(residuals_sorted, kde=True, color='blue', bins=20)\n",
        "plt.xlabel('Resíduos')\n",
        "plt.ylabel('Frequência')\n",
        "plt.title('Histograma dos resíduos')\n",
        "plt.show()"
      ],
      "metadata": {
        "id": "PSZph4EkzPbO",
        "colab": {
          "base_uri": "https://localhost:8080/"
        },
        "outputId": "dbb9e4b0-0e4e-43f4-e982-14c181ceeefa"
      },
      "execution_count": null,
      "outputs": [
        {
          "output_type": "display_data",
          "data": {
            "text/plain": [
              "<Figure size 640x480 with 1 Axes>"
            ],
            "image/png": "[encoded data removed]"
          },
          "metadata": {}
        }
      ]
    },
    {
      "cell_type": "markdown",
      "source": [
        "Com base na amostra, observa-se que a distribuição da frequência em comparação ao resíduo não segue inicialmente uma distribuição normal. No entanto, ao longo do tempo, ela parece se ajustar gradualmente e passa a seguir uma distribuição mais normalizada."
      ],
      "metadata": {
        "id": "5RX7DH3n8ERB"
      }
    },
    {
      "cell_type": "markdown",
      "source": [
        "### Classificação\n",
        "Objetivos:\n",
        "- Identificação de Alunos em Risco de Desistência\n",
        "- Apoio à Tomada de Decisão"
      ],
      "metadata": {
        "id": "bYonhmDtR-vg"
      }
    },
    {
      "cell_type": "markdown",
      "source": [
        "##### Padronização dos Dados\n",
        "\n",
        "----\n",
        "[Documentação StandardScaler](https://scikit-learn.org/stable/modules/generated/sklearn.preprocessing.StandardScaler.html)\n",
        "\n",
        "----\n",
        "StandardScaler: \\\n",
        "Padronizar as características de um conjunto de dados é fundamental para garantir que elas tenham a mesma escala. O StandardScaler é uma ferramenta eficaz para essa tarefa, transformando os dados de forma que sua distribuição tenha uma média zero e um desvio padrão de um. Essa padronização é essencial em algoritmos sensíveis à escala das características, como aqueles baseados em distâncias, garantindo que todas as características contribuam igualmente para o modelo. Além disso, o StandardScaler ajuda a evitar problemas de convergência em algoritmos de otimização, proporcionando uma convergência mais rápida e estável. Essa normalização dos dados facilita a interpretação dos coeficientes nos modelos e melhora a eficácia geral do processo de aprendizado."
      ],
      "metadata": {
        "id": "631JAqA5z9IW"
      }
    },
    {
      "cell_type": "code",
      "source": [
        "cdf = df.copy()\n",
        "cdf = cdf[cdf[\"Status\"] != 0 ]"
      ],
      "metadata": {
        "id": "5TmGjct_z8c6"
      },
      "execution_count": null,
      "outputs": []
    },
    {
      "cell_type": "code",
      "source": [
        "X_categorical = cdf.drop('Status', axis=1)\n",
        "y_categorical = cdf['Status']"
      ],
      "metadata": {
        "id": "cxv_bBYTuRhK"
      },
      "execution_count": null,
      "outputs": []
    },
    {
      "cell_type": "code",
      "source": [
        "X_train, X_test, y_train, y_test = train_test_split(X_categorical, y_categorical, test_size=0.2, random_state=42)"
      ],
      "metadata": {
        "id": "cq45FTafd7p1"
      },
      "execution_count": null,
      "outputs": []
    },
    {
      "cell_type": "code",
      "source": [
        "scaler = StandardScaler()\n",
        "X_train_scaled = scaler.fit_transform(X_train.drop('GDP', axis=1))\n",
        "X_test_scaled = scaler.transform(X_test.drop('GDP', axis=1))"
      ],
      "metadata": {
        "id": "BhUWvQ5d0Wht"
      },
      "execution_count": null,
      "outputs": []
    },
    {
      "cell_type": "code",
      "source": [
        "X_train_scaled = pd.DataFrame(X_train_scaled, columns=X_train.drop('GDP', axis=1).columns, index=X_train.index)\n",
        "X_test_scaled = pd.DataFrame(X_test_scaled, columns=X_test.drop('GDP', axis=1).columns, index=X_test.index)\n",
        "X_train_scaled['GDP'] = X_train['GDP']\n",
        "X_test_scaled['GDP'] = X_test['GDP']"
      ],
      "metadata": {
        "id": "8r_xtsMZdLx3"
      },
      "execution_count": null,
      "outputs": []
    },
    {
      "cell_type": "markdown",
      "source": [
        "#### Identificação de Alunos em Risco de Desistência\n",
        "\n",
        "Identificar alunos que estão em maior risco de desistir do curso. Com base em atributos como estado civil, desempenho acadêmico inicial e situação eocioeconômica, modelos de classificação podem prever quais alunos têm maior probabilidade de abandonar os estudos."
      ],
      "metadata": {
        "id": "DFMTY_VSdpnp"
      }
    },
    {
      "cell_type": "markdown",
      "source": [
        "-----\n",
        "\n",
        "[Documentação do MLPClassifier](https://scikit-learn.org/stable/modules/generated/sklearn.neural_network.MLPClassifier.html#sklearn.neural_network.MLPClassifier)\n",
        "\n",
        "----\n",
        "hidden_layer_sizes\\\n",
        "Este parâmetro especifica a arquitetura da rede neural, ou seja, o número de camadas ocultas e o número de neurônios em cada camada oculta.\n",
        "Por exemplo, (100, 50) significa que há duas camadas ocultas, a primeira com 100 neurônios e a segunda com 50 neurônios.\n",
        "\n",
        "activation\\\n",
        "Este parâmetro especifica a função de ativação usada em cada neurônio da rede.\n",
        "> 'relu' se refere à função de ativação Rectified Linear Unit, que é uma escolha comum para redes neurais profundas devido à sua eficácia e simplicidade.\n",
        "\n",
        ">'tanh' se refere à função de ativação Tangente Hiperbólica, que também é comumente usada em redes neurais.\n",
        "\n",
        "solver\\\n",
        "Este parâmetro especifica o algoritmo de otimização usado para treinar a rede neural.\n",
        "'adam' se refere a um método de otimização baseado em gradiente estocástico, que é bastante popular devido à sua eficácia e eficiência.\n",
        "'sgd' se refere à descida de gradiente estocástica, que é uma abordagem mais simples, mas ainda amplamente utilizada para otimização."
      ],
      "metadata": {
        "id": "8z2nw7QV5T4J"
      }
    },
    {
      "cell_type": "code",
      "source": [
        "parameters = {\n",
        "    'hidden_layer_sizes': [(100, 50)],\n",
        "    'activation': ['relu', 'tanh'],\n",
        "    'solver': ['adam', 'sgd']\n",
        "}"
      ],
      "metadata": {
        "id": "iTeA0JsFfNSx"
      },
      "execution_count": null,
      "outputs": []
    },
    {
      "cell_type": "code",
      "source": [
        "model = MLPClassifier(random_state=42)\n",
        "grid_search = GridSearchCV(model, parameters, cv=5)\n",
        "grid_search.fit(X_train_scaled, y_train)"
      ],
      "metadata": {
        "colab": {
          "base_uri": "https://localhost:8080/",
          "height": 812
        },
        "id": "dz8I-Fs21Y6O",
        "outputId": "a220274d-7060-464c-ac95-1e8c7dcea177"
      },
      "execution_count": null,
      "outputs": [
        {
          "output_type": "stream",
          "name": "stderr",
          "text": [
            "/usr/local/lib/python3.10/dist-packages/sklearn/neural_network/_multilayer_perceptron.py:686: ConvergenceWarning: Stochastic Optimizer: Maximum iterations (200) reached and the optimization hasn't converged yet.\n",
            "  warnings.warn(\n",
            "/usr/local/lib/python3.10/dist-packages/sklearn/neural_network/_multilayer_perceptron.py:686: ConvergenceWarning: Stochastic Optimizer: Maximum iterations (200) reached and the optimization hasn't converged yet.\n",
            "  warnings.warn(\n",
            "/usr/local/lib/python3.10/dist-packages/sklearn/neural_network/_multilayer_perceptron.py:686: ConvergenceWarning: Stochastic Optimizer: Maximum iterations (200) reached and the optimization hasn't converged yet.\n",
            "  warnings.warn(\n",
            "/usr/local/lib/python3.10/dist-packages/sklearn/neural_network/_multilayer_perceptron.py:686: ConvergenceWarning: Stochastic Optimizer: Maximum iterations (200) reached and the optimization hasn't converged yet.\n",
            "  warnings.warn(\n",
            "/usr/local/lib/python3.10/dist-packages/sklearn/neural_network/_multilayer_perceptron.py:686: ConvergenceWarning: Stochastic Optimizer: Maximum iterations (200) reached and the optimization hasn't converged yet.\n",
            "  warnings.warn(\n",
            "/usr/local/lib/python3.10/dist-packages/sklearn/neural_network/_multilayer_perceptron.py:686: ConvergenceWarning: Stochastic Optimizer: Maximum iterations (200) reached and the optimization hasn't converged yet.\n",
            "  warnings.warn(\n",
            "/usr/local/lib/python3.10/dist-packages/sklearn/neural_network/_multilayer_perceptron.py:686: ConvergenceWarning: Stochastic Optimizer: Maximum iterations (200) reached and the optimization hasn't converged yet.\n",
            "  warnings.warn(\n",
            "/usr/local/lib/python3.10/dist-packages/sklearn/neural_network/_multilayer_perceptron.py:686: ConvergenceWarning: Stochastic Optimizer: Maximum iterations (200) reached and the optimization hasn't converged yet.\n",
            "  warnings.warn(\n",
            "/usr/local/lib/python3.10/dist-packages/sklearn/neural_network/_multilayer_perceptron.py:686: ConvergenceWarning: Stochastic Optimizer: Maximum iterations (200) reached and the optimization hasn't converged yet.\n",
            "  warnings.warn(\n",
            "/usr/local/lib/python3.10/dist-packages/sklearn/neural_network/_multilayer_perceptron.py:686: ConvergenceWarning: Stochastic Optimizer: Maximum iterations (200) reached and the optimization hasn't converged yet.\n",
            "  warnings.warn(\n",
            "/usr/local/lib/python3.10/dist-packages/sklearn/neural_network/_multilayer_perceptron.py:686: ConvergenceWarning: Stochastic Optimizer: Maximum iterations (200) reached and the optimization hasn't converged yet.\n",
            "  warnings.warn(\n",
            "/usr/local/lib/python3.10/dist-packages/sklearn/neural_network/_multilayer_perceptron.py:686: ConvergenceWarning: Stochastic Optimizer: Maximum iterations (200) reached and the optimization hasn't converged yet.\n",
            "  warnings.warn(\n",
            "/usr/local/lib/python3.10/dist-packages/sklearn/neural_network/_multilayer_perceptron.py:686: ConvergenceWarning: Stochastic Optimizer: Maximum iterations (200) reached and the optimization hasn't converged yet.\n",
            "  warnings.warn(\n",
            "/usr/local/lib/python3.10/dist-packages/sklearn/neural_network/_multilayer_perceptron.py:693: UserWarning: Training interrupted by user.\n",
            "  warnings.warn(\"Training interrupted by user.\")\n",
            "/usr/local/lib/python3.10/dist-packages/sklearn/neural_network/_multilayer_perceptron.py:686: ConvergenceWarning: Stochastic Optimizer: Maximum iterations (200) reached and the optimization hasn't converged yet.\n",
            "  warnings.warn(\n",
            "/usr/local/lib/python3.10/dist-packages/sklearn/neural_network/_multilayer_perceptron.py:686: ConvergenceWarning: Stochastic Optimizer: Maximum iterations (200) reached and the optimization hasn't converged yet.\n",
            "  warnings.warn(\n",
            "/usr/local/lib/python3.10/dist-packages/sklearn/neural_network/_multilayer_perceptron.py:686: ConvergenceWarning: Stochastic Optimizer: Maximum iterations (200) reached and the optimization hasn't converged yet.\n",
            "  warnings.warn(\n",
            "/usr/local/lib/python3.10/dist-packages/sklearn/neural_network/_multilayer_perceptron.py:686: ConvergenceWarning: Stochastic Optimizer: Maximum iterations (200) reached and the optimization hasn't converged yet.\n",
            "  warnings.warn(\n",
            "/usr/local/lib/python3.10/dist-packages/sklearn/neural_network/_multilayer_perceptron.py:686: ConvergenceWarning: Stochastic Optimizer: Maximum iterations (200) reached and the optimization hasn't converged yet.\n",
            "  warnings.warn(\n",
            "/usr/local/lib/python3.10/dist-packages/sklearn/neural_network/_multilayer_perceptron.py:686: ConvergenceWarning: Stochastic Optimizer: Maximum iterations (200) reached and the optimization hasn't converged yet.\n",
            "  warnings.warn(\n"
          ]
        },
        {
          "output_type": "execute_result",
          "data": {
            "text/plain": [
              "GridSearchCV(cv=5, estimator=MLPClassifier(random_state=42),\n",
              "             param_grid={'activation': ['relu', 'tanh'],\n",
              "                         'hidden_layer_sizes': [(100, 50)],\n",
              "                         'solver': ['adam', 'sgd']})"
            ],
            "text/html": [
              "<style>#sk-container-id-1 {color: black;background-color: white;}#sk-container-id-1 pre{padding: 0;}#sk-container-id-1 div.sk-toggleable {background-color: white;}#sk-container-id-1 label.sk-toggleable__label {cursor: pointer;display: block;width: 100%;margin-bottom: 0;padding: 0.3em;box-sizing: border-box;text-align: center;}#sk-container-id-1 label.sk-toggleable__label-arrow:before {content: \"▸\";float: left;margin-right: 0.25em;color: #696969;}#sk-container-id-1 label.sk-toggleable__label-arrow:hover:before {color: black;}#sk-container-id-1 div.sk-estimator:hover label.sk-toggleable__label-arrow:before {color: black;}#sk-container-id-1 div.sk-toggleable__content {max-height: 0;max-width: 0;overflow: hidden;text-align: left;background-color: #f0f8ff;}#sk-container-id-1 div.sk-toggleable__content pre {margin: 0.2em;color: black;border-radius: 0.25em;background-color: #f0f8ff;}#sk-container-id-1 input.sk-toggleable__control:checked~div.sk-toggleable__content {max-height: 200px;max-width: 100%;overflow: auto;}#sk-container-id-1 input.sk-toggleable__control:checked~label.sk-toggleable__label-arrow:before {content: \"▾\";}#sk-container-id-1 div.sk-estimator input.sk-toggleable__control:checked~label.sk-toggleable__label {background-color: #d4ebff;}#sk-container-id-1 div.sk-label input.sk-toggleable__control:checked~label.sk-toggleable__label {background-color: #d4ebff;}#sk-container-id-1 input.sk-hidden--visually {border: 0;clip: rect(1px 1px 1px 1px);clip: rect(1px, 1px, 1px, 1px);height: 1px;margin: -1px;overflow: hidden;padding: 0;position: absolute;width: 1px;}#sk-container-id-1 div.sk-estimator {font-family: monospace;background-color: #f0f8ff;border: 1px dotted black;border-radius: 0.25em;box-sizing: border-box;margin-bottom: 0.5em;}#sk-container-id-1 div.sk-estimator:hover {background-color: #d4ebff;}#sk-container-id-1 div.sk-parallel-item::after {content: \"\";width: 100%;border-bottom: 1px solid gray;flex-grow: 1;}#sk-container-id-1 div.sk-label:hover label.sk-toggleable__label {background-color: #d4ebff;}#sk-container-id-1 div.sk-serial::before {content: \"\";position: absolute;border-left: 1px solid gray;box-sizing: border-box;top: 0;bottom: 0;left: 50%;z-index: 0;}#sk-container-id-1 div.sk-serial {display: flex;flex-direction: column;align-items: center;background-color: white;padding-right: 0.2em;padding-left: 0.2em;position: relative;}#sk-container-id-1 div.sk-item {position: relative;z-index: 1;}#sk-container-id-1 div.sk-parallel {display: flex;align-items: stretch;justify-content: center;background-color: white;position: relative;}#sk-container-id-1 div.sk-item::before, #sk-container-id-1 div.sk-parallel-item::before {content: \"\";position: absolute;border-left: 1px solid gray;box-sizing: border-box;top: 0;bottom: 0;left: 50%;z-index: -1;}#sk-container-id-1 div.sk-parallel-item {display: flex;flex-direction: column;z-index: 1;position: relative;background-color: white;}#sk-container-id-1 div.sk-parallel-item:first-child::after {align-self: flex-end;width: 50%;}#sk-container-id-1 div.sk-parallel-item:last-child::after {align-self: flex-start;width: 50%;}#sk-container-id-1 div.sk-parallel-item:only-child::after {width: 0;}#sk-container-id-1 div.sk-dashed-wrapped {border: 1px dashed gray;margin: 0 0.4em 0.5em 0.4em;box-sizing: border-box;padding-bottom: 0.4em;background-color: white;}#sk-container-id-1 div.sk-label label {font-family: monospace;font-weight: bold;display: inline-block;line-height: 1.2em;}#sk-container-id-1 div.sk-label-container {text-align: center;}#sk-container-id-1 div.sk-container {/* jupyter's `normalize.less` sets `[hidden] { display: none; }` but bootstrap.min.css set `[hidden] { display: none !important; }` so we also need the `!important` here to be able to override the default hidden behavior on the sphinx rendered scikit-learn.org. See: https://github.com/scikit-learn/scikit-learn/issues/21755 */display: inline-block !important;position: relative;}#sk-container-id-1 div.sk-text-repr-fallback {display: none;}</style><div id=\"sk-container-id-1\" class=\"sk-top-container\"><div class=\"sk-text-repr-fallback\"><pre>GridSearchCV(cv=5, estimator=MLPClassifier(random_state=42),\n",
              "             param_grid={&#x27;activation&#x27;: [&#x27;relu&#x27;, &#x27;tanh&#x27;],\n",
              "                         &#x27;hidden_layer_sizes&#x27;: [(100, 50)],\n",
              "                         &#x27;solver&#x27;: [&#x27;adam&#x27;, &#x27;sgd&#x27;]})</pre><b>In a Jupyter environment, please rerun this cell to show the HTML representation or trust the notebook. <br />On GitHub, the HTML representation is unable to render, please try loading this page with nbviewer.org.</b></div><div class=\"sk-container\" hidden><div class=\"sk-item sk-dashed-wrapped\"><div class=\"sk-label-container\"><div class=\"sk-label sk-toggleable\"><input class=\"sk-toggleable__control sk-hidden--visually\" id=\"sk-estimator-id-1\" type=\"checkbox\" ><label for=\"sk-estimator-id-1\" class=\"sk-toggleable__label sk-toggleable__label-arrow\">GridSearchCV</label><div class=\"sk-toggleable__content\"><pre>GridSearchCV(cv=5, estimator=MLPClassifier(random_state=42),\n",
              "             param_grid={&#x27;activation&#x27;: [&#x27;relu&#x27;, &#x27;tanh&#x27;],\n",
              "                         &#x27;hidden_layer_sizes&#x27;: [(100, 50)],\n",
              "                         &#x27;solver&#x27;: [&#x27;adam&#x27;, &#x27;sgd&#x27;]})</pre></div></div></div><div class=\"sk-parallel\"><div class=\"sk-parallel-item\"><div class=\"sk-item\"><div class=\"sk-label-container\"><div class=\"sk-label sk-toggleable\"><input class=\"sk-toggleable__control sk-hidden--visually\" id=\"sk-estimator-id-2\" type=\"checkbox\" ><label for=\"sk-estimator-id-2\" class=\"sk-toggleable__label sk-toggleable__label-arrow\">estimator: MLPClassifier</label><div class=\"sk-toggleable__content\"><pre>MLPClassifier(random_state=42)</pre></div></div></div><div class=\"sk-serial\"><div class=\"sk-item\"><div class=\"sk-estimator sk-toggleable\"><input class=\"sk-toggleable__control sk-hidden--visually\" id=\"sk-estimator-id-3\" type=\"checkbox\" ><label for=\"sk-estimator-id-3\" class=\"sk-toggleable__label sk-toggleable__label-arrow\">MLPClassifier</label><div class=\"sk-toggleable__content\"><pre>MLPClassifier(random_state=42)</pre></div></div></div></div></div></div></div></div></div></div>"
            ]
          },
          "metadata": {},
          "execution_count": 52
        }
      ]
    },
    {
      "cell_type": "code",
      "source": [
        "print(\"Melhores parâmetros encontrados:\")\n",
        "print(grid_search.best_params_)"
      ],
      "metadata": {
        "id": "sxJy_EkIfbQf",
        "colab": {
          "base_uri": "https://localhost:8080/"
        },
        "outputId": "3d832a5e-8e9d-4602-95dc-43e44552fd0c"
      },
      "execution_count": null,
      "outputs": [
        {
          "output_type": "stream",
          "name": "stdout",
          "text": [
            "Melhores parâmetros encontrados:\n",
            "{'activation': 'tanh', 'hidden_layer_sizes': (100, 50), 'solver': 'sgd'}\n"
          ]
        }
      ]
    },
    {
      "cell_type": "code",
      "source": [
        "best_model = grid_search.best_estimator_"
      ],
      "metadata": {
        "id": "yAA0KWXz1bba"
      },
      "execution_count": null,
      "outputs": []
    },
    {
      "cell_type": "code",
      "source": [
        "predictions = best_model.predict(X_test_scaled)"
      ],
      "metadata": {
        "id": "MIWnynmEhDlc"
      },
      "execution_count": null,
      "outputs": []
    },
    {
      "cell_type": "code",
      "source": [
        "accuracy = accuracy_score(y_test, predictions)\n",
        "print(\"Accuracy:\", accuracy)"
      ],
      "metadata": {
        "colab": {
          "base_uri": "https://localhost:8080/"
        },
        "id": "gvNYZw6m1dg8",
        "outputId": "9b245c63-c55e-414c-bbc8-032211d76ef4"
      },
      "execution_count": null,
      "outputs": [
        {
          "output_type": "stream",
          "name": "stdout",
          "text": [
            "Accuracy: 0.8994490358126722\n"
          ]
        }
      ]
    },
    {
      "cell_type": "code",
      "source": [
        "print(classification_report(y_test, predictions))"
      ],
      "metadata": {
        "colab": {
          "base_uri": "https://localhost:8080/"
        },
        "id": "yJLgoHbA1hse",
        "outputId": "dfd7af3a-b308-4824-bcf1-4342021ce0ce"
      },
      "execution_count": null,
      "outputs": [
        {
          "output_type": "stream",
          "name": "stdout",
          "text": [
            "              precision    recall  f1-score   support\n",
            "\n",
            "           1       0.90      0.95      0.92       449\n",
            "           2       0.90      0.82      0.86       277\n",
            "\n",
            "    accuracy                           0.90       726\n",
            "   macro avg       0.90      0.88      0.89       726\n",
            "weighted avg       0.90      0.90      0.90       726\n",
            "\n"
          ]
        }
      ]
    },
    {
      "cell_type": "markdown",
      "source": [
        "##### Graficos e Resultados"
      ],
      "metadata": {
        "id": "gV4tFh6e5lH3"
      }
    },
    {
      "cell_type": "code",
      "source": [
        "df_graficos = X_test.copy()\n",
        "df_graficos['True Labels'] = y_test\n",
        "df_graficos['Predicted Labels'] = predictions"
      ],
      "metadata": {
        "id": "L7pjVKyc5syI"
      },
      "execution_count": null,
      "outputs": []
    },
    {
      "cell_type": "markdown",
      "source": [
        "Valores presente da database referente a descrição do \"Martial Status\"."
      ],
      "metadata": {
        "id": "KrnUhdDh4xta"
      }
    },
    {
      "cell_type": "code",
      "source": [
        "marital_status_mapping = {\n",
        "    1: 'single',\n",
        "    2: 'married',\n",
        "    3: 'widower',\n",
        "    4: 'divorced',\n",
        "    5: 'facto union',\n",
        "    6: 'legally separated'\n",
        "}\n",
        "yes_or_no = {\n",
        "    1:\"Sim\",\n",
        "    0:\"Não\"\n",
        "}"
      ],
      "metadata": {
        "id": "RIghMJIm6HRi"
      },
      "execution_count": null,
      "outputs": []
    },
    {
      "cell_type": "markdown",
      "source": [
        "Juntar o dicionario com a descrição de cada um com o número que está presente nos dados"
      ],
      "metadata": {
        "id": "iLbOv_0I45cC"
      }
    },
    {
      "cell_type": "code",
      "source": [
        "df_graficos['Marital Status'] = df_graficos['Marital Status'].map(marital_status_mapping)\n",
        "df_graficos['Tuition fees up to date'] = df_graficos['Tuition fees up to date'].map(yes_or_no)"
      ],
      "metadata": {
        "id": "CWtQXq8l8ElV"
      },
      "execution_count": null,
      "outputs": []
    },
    {
      "cell_type": "markdown",
      "source": [
        "Filtro dos valores dentro do \"True Labels\" que contem os valores do \"Status\" do aluno universitario."
      ],
      "metadata": {
        "id": "fHYqpka55CR9"
      }
    },
    {
      "cell_type": "code",
      "source": [
        "df_dropout = df_graficos[df_graficos['True Labels'] == 2]\n",
        "df_graduate = df_graficos[df_graficos['True Labels'] == 1]\n",
        "grouped_dropout = df_dropout.groupby('Marital Status').size().reset_index(name='Number of Students')\n",
        "grouped_graduate = df_graduate.groupby('Marital Status').size().reset_index(name='Number of Students')"
      ],
      "metadata": {
        "id": "48XGusuT7wGq"
      },
      "execution_count": null,
      "outputs": []
    },
    {
      "cell_type": "code",
      "source": [
        "df_dropout.head(15)"
      ],
      "metadata": {
        "colab": {
          "base_uri": "https://localhost:8080/",
          "height": 604
        },
        "id": "fMR9lCdQRTZl",
        "outputId": "fa709ba7-7999-4df1-c0eb-83f9c2343a0d"
      },
      "execution_count": null,
      "outputs": [
        {
          "output_type": "execute_result",
          "data": {
            "text/plain": [
              "     Marital Status  Application mode  Application order  Course  \\\n",
              "3927         single                 1                  2    9773   \n",
              "524          single                 1                  1    9556   \n",
              "3198         single                 7                  1    9254   \n",
              "3592         single                 7                  1    9670   \n",
              "699          single                43                  1    9119   \n",
              "791          single                39                  1    9500   \n",
              "4055         single                39                  1    9085   \n",
              "980          single                42                  1    9119   \n",
              "1452         single                 1                  1     171   \n",
              "3582         single                39                  1    9991   \n",
              "984          single                 1                  1    9147   \n",
              "392          single                 1                  6    9773   \n",
              "1547        married                39                  1    9991   \n",
              "40           single                 1                  5    9773   \n",
              "1488         single                43                  1    8014   \n",
              "\n",
              "      Daytime/evening attendance  Previous qualification  \\\n",
              "3927                           1                       1   \n",
              "524                            1                       1   \n",
              "3198                           1                       3   \n",
              "3592                           1                       3   \n",
              "699                            1                       1   \n",
              "791                            1                       1   \n",
              "4055                           1                       1   \n",
              "980                            1                       6   \n",
              "1452                           1                       1   \n",
              "3582                           0                       1   \n",
              "984                            1                       1   \n",
              "392                            1                       1   \n",
              "1547                           0                       9   \n",
              "40                             1                       1   \n",
              "1488                           0                       1   \n",
              "\n",
              "      Previous qualification (grade)  Nacionalidade  Mother's qualification  \\\n",
              "3927                           130.0              1                      38   \n",
              "524                            180.0            103                       5   \n",
              "3198                           110.0              1                      19   \n",
              "3592                           110.0              1                      27   \n",
              "699                            140.0              1                      37   \n",
              "791                            120.0              1                       3   \n",
              "4055                           133.1              1                       3   \n",
              "980                            120.0              1                      35   \n",
              "1452                           132.0              1                       1   \n",
              "3582                           133.1              1                      38   \n",
              "984                            128.0              1                       1   \n",
              "392                            141.0              1                      30   \n",
              "1547                           133.1              1                      34   \n",
              "40                             126.0              1                       3   \n",
              "1488                           131.0              1                      19   \n",
              "\n",
              "      Father's qualification  ...  Interacao_UC_1st_2nd_credited  \\\n",
              "3927                      37  ...                              0   \n",
              "524                        3  ...                              0   \n",
              "3198                      19  ...                              0   \n",
              "3592                      37  ...                             42   \n",
              "699                       38  ...                              0   \n",
              "791                        3  ...                              0   \n",
              "4055                      19  ...                              0   \n",
              "980                       35  ...                              4   \n",
              "1452                       1  ...                              0   \n",
              "3582                      37  ...                              0   \n",
              "984                        1  ...                              0   \n",
              "392                       37  ...                              0   \n",
              "1547                      34  ...                              0   \n",
              "40                         3  ...                              0   \n",
              "1488                      37  ...                              0   \n",
              "\n",
              "      Interacao_UC_1st_2nd_enrolled  Interacao_UC_1st_2nd_evaluations  \\\n",
              "3927                             36                                64   \n",
              "524                              49                                64   \n",
              "3198                             36                                49   \n",
              "3592                            144                               144   \n",
              "699                              25                               100   \n",
              "791                              36                               225   \n",
              "4055                             36                               225   \n",
              "980                              36                                64   \n",
              "1452                              0                                 0   \n",
              "3582                             25                                 0   \n",
              "984                              25                                64   \n",
              "392                              36                                64   \n",
              "1547                             25                                25   \n",
              "40                               36                                36   \n",
              "1488                             36                               169   \n",
              "\n",
              "      Total_UC_Aprovado  Total_UC_Credited  Total_UC_Enrolled  \\\n",
              "3927                 11                  0                 12   \n",
              "524                   4                  0                 15   \n",
              "3198                  0                  0                 12   \n",
              "3592                 15                 13                 23   \n",
              "699                   4                  0                 10   \n",
              "791                   2                  0                 13   \n",
              "4055                  8                  0                 12   \n",
              "980                   6                  5                 11   \n",
              "1452                  0                  0                  0   \n",
              "3582                  0                  0                 10   \n",
              "984                   3                  0                 10   \n",
              "392                  10                  0                 12   \n",
              "1547                  0                  0                 10   \n",
              "40                    4                  0                 11   \n",
              "1488                  0                  0                 12   \n",
              "\n",
              "     Total_UC_Evaluations  Total_UC_Nota  True Labels  Predicted Labels  \n",
              "3927                   14      13.071429            2                 2  \n",
              "524                    16       6.000000            2                 2  \n",
              "3198                   13       0.000000            2                 2  \n",
              "3592                   23      12.750000            2                 2  \n",
              "699                    21      17.166667            2                 2  \n",
              "791                    24       5.750000            2                 2  \n",
              "4055                   29      12.000000            2                 2  \n",
              "980                    16      10.875000            2                 2  \n",
              "1452                    0       0.000000            2                 1  \n",
              "3582                    0       0.000000            2                 2  \n",
              "984                    16      13.000000            2                 2  \n",
              "392                    16      12.200000            2                 2  \n",
              "1547                   10       0.000000            2                 2  \n",
              "40                     11       6.375000            2                 2  \n",
              "1488                   19       0.000000            2                 2  \n",
              "\n",
              "[15 rows x 38 columns]"
            ],
            "text/html": [
              "\n",
              "  <div id=\"df-0e35330f-1ab5-4f8b-ab76-a34f26bce936\" class=\"colab-df-container\">\n",
              "    <div>\n",
              "<style scoped>\n",
              "    .dataframe tbody tr th:only-of-type {\n",
              "        vertical-align: middle;\n",
              "    }\n",
              "\n",
              "    .dataframe tbody tr th {\n",
              "        vertical-align: top;\n",
              "    }\n",
              "\n",
              "    .dataframe thead th {\n",
              "        text-align: right;\n",
              "    }\n",
              "</style>\n",
              "<table border=\"1\" class=\"dataframe\">\n",
              "  <thead>\n",
              "    <tr style=\"text-align: right;\">\n",
              "      <th></th>\n",
              "      <th>Marital Status</th>\n",
              "      <th>Application mode</th>\n",
              "      <th>Application order</th>\n",
              "      <th>Course</th>\n",
              "      <th>Daytime/evening attendance</th>\n",
              "      <th>Previous qualification</th>\n",
              "      <th>Previous qualification (grade)</th>\n",
              "      <th>Nacionalidade</th>\n",
              "      <th>Mother's qualification</th>\n",
              "      <th>Father's qualification</th>\n",
              "      <th>...</th>\n",
              "      <th>Interacao_UC_1st_2nd_credited</th>\n",
              "      <th>Interacao_UC_1st_2nd_enrolled</th>\n",
              "      <th>Interacao_UC_1st_2nd_evaluations</th>\n",
              "      <th>Total_UC_Aprovado</th>\n",
              "      <th>Total_UC_Credited</th>\n",
              "      <th>Total_UC_Enrolled</th>\n",
              "      <th>Total_UC_Evaluations</th>\n",
              "      <th>Total_UC_Nota</th>\n",
              "      <th>True Labels</th>\n",
              "      <th>Predicted Labels</th>\n",
              "    </tr>\n",
              "  </thead>\n",
              "  <tbody>\n",
              "    <tr>\n",
              "      <th>3927</th>\n",
              "      <td>single</td>\n",
              "      <td>1</td>\n",
              "      <td>2</td>\n",
              "      <td>9773</td>\n",
              "      <td>1</td>\n",
              "      <td>1</td>\n",
              "      <td>130.0</td>\n",
              "      <td>1</td>\n",
              "      <td>38</td>\n",
              "      <td>37</td>\n",
              "      <td>...</td>\n",
              "      <td>0</td>\n",
              "      <td>36</td>\n",
              "      <td>64</td>\n",
              "      <td>11</td>\n",
              "      <td>0</td>\n",
              "      <td>12</td>\n",
              "      <td>14</td>\n",
              "      <td>13.071429</td>\n",
              "      <td>2</td>\n",
              "      <td>2</td>\n",
              "    </tr>\n",
              "    <tr>\n",
              "      <th>524</th>\n",
              "      <td>single</td>\n",
              "      <td>1</td>\n",
              "      <td>1</td>\n",
              "      <td>9556</td>\n",
              "      <td>1</td>\n",
              "      <td>1</td>\n",
              "      <td>180.0</td>\n",
              "      <td>103</td>\n",
              "      <td>5</td>\n",
              "      <td>3</td>\n",
              "      <td>...</td>\n",
              "      <td>0</td>\n",
              "      <td>49</td>\n",
              "      <td>64</td>\n",
              "      <td>4</td>\n",
              "      <td>0</td>\n",
              "      <td>15</td>\n",
              "      <td>16</td>\n",
              "      <td>6.000000</td>\n",
              "      <td>2</td>\n",
              "      <td>2</td>\n",
              "    </tr>\n",
              "    <tr>\n",
              "      <th>3198</th>\n",
              "      <td>single</td>\n",
              "      <td>7</td>\n",
              "      <td>1</td>\n",
              "      <td>9254</td>\n",
              "      <td>1</td>\n",
              "      <td>3</td>\n",
              "      <td>110.0</td>\n",
              "      <td>1</td>\n",
              "      <td>19</td>\n",
              "      <td>19</td>\n",
              "      <td>...</td>\n",
              "      <td>0</td>\n",
              "      <td>36</td>\n",
              "      <td>49</td>\n",
              "      <td>0</td>\n",
              "      <td>0</td>\n",
              "      <td>12</td>\n",
              "      <td>13</td>\n",
              "      <td>0.000000</td>\n",
              "      <td>2</td>\n",
              "      <td>2</td>\n",
              "    </tr>\n",
              "    <tr>\n",
              "      <th>3592</th>\n",
              "      <td>single</td>\n",
              "      <td>7</td>\n",
              "      <td>1</td>\n",
              "      <td>9670</td>\n",
              "      <td>1</td>\n",
              "      <td>3</td>\n",
              "      <td>110.0</td>\n",
              "      <td>1</td>\n",
              "      <td>27</td>\n",
              "      <td>37</td>\n",
              "      <td>...</td>\n",
              "      <td>42</td>\n",
              "      <td>144</td>\n",
              "      <td>144</td>\n",
              "      <td>15</td>\n",
              "      <td>13</td>\n",
              "      <td>23</td>\n",
              "      <td>23</td>\n",
              "      <td>12.750000</td>\n",
              "      <td>2</td>\n",
              "      <td>2</td>\n",
              "    </tr>\n",
              "    <tr>\n",
              "      <th>699</th>\n",
              "      <td>single</td>\n",
              "      <td>43</td>\n",
              "      <td>1</td>\n",
              "      <td>9119</td>\n",
              "      <td>1</td>\n",
              "      <td>1</td>\n",
              "      <td>140.0</td>\n",
              "      <td>1</td>\n",
              "      <td>37</td>\n",
              "      <td>38</td>\n",
              "      <td>...</td>\n",
              "      <td>0</td>\n",
              "      <td>25</td>\n",
              "      <td>100</td>\n",
              "      <td>4</td>\n",
              "      <td>0</td>\n",
              "      <td>10</td>\n",
              "      <td>21</td>\n",
              "      <td>17.166667</td>\n",
              "      <td>2</td>\n",
              "      <td>2</td>\n",
              "    </tr>\n",
              "    <tr>\n",
              "      <th>791</th>\n",
              "      <td>single</td>\n",
              "      <td>39</td>\n",
              "      <td>1</td>\n",
              "      <td>9500</td>\n",
              "      <td>1</td>\n",
              "      <td>1</td>\n",
              "      <td>120.0</td>\n",
              "      <td>1</td>\n",
              "      <td>3</td>\n",
              "      <td>3</td>\n",
              "      <td>...</td>\n",
              "      <td>0</td>\n",
              "      <td>36</td>\n",
              "      <td>225</td>\n",
              "      <td>2</td>\n",
              "      <td>0</td>\n",
              "      <td>13</td>\n",
              "      <td>24</td>\n",
              "      <td>5.750000</td>\n",
              "      <td>2</td>\n",
              "      <td>2</td>\n",
              "    </tr>\n",
              "    <tr>\n",
              "      <th>4055</th>\n",
              "      <td>single</td>\n",
              "      <td>39</td>\n",
              "      <td>1</td>\n",
              "      <td>9085</td>\n",
              "      <td>1</td>\n",
              "      <td>1</td>\n",
              "      <td>133.1</td>\n",
              "      <td>1</td>\n",
              "      <td>3</td>\n",
              "      <td>19</td>\n",
              "      <td>...</td>\n",
              "      <td>0</td>\n",
              "      <td>36</td>\n",
              "      <td>225</td>\n",
              "      <td>8</td>\n",
              "      <td>0</td>\n",
              "      <td>12</td>\n",
              "      <td>29</td>\n",
              "      <td>12.000000</td>\n",
              "      <td>2</td>\n",
              "      <td>2</td>\n",
              "    </tr>\n",
              "    <tr>\n",
              "      <th>980</th>\n",
              "      <td>single</td>\n",
              "      <td>42</td>\n",
              "      <td>1</td>\n",
              "      <td>9119</td>\n",
              "      <td>1</td>\n",
              "      <td>6</td>\n",
              "      <td>120.0</td>\n",
              "      <td>1</td>\n",
              "      <td>35</td>\n",
              "      <td>35</td>\n",
              "      <td>...</td>\n",
              "      <td>4</td>\n",
              "      <td>36</td>\n",
              "      <td>64</td>\n",
              "      <td>6</td>\n",
              "      <td>5</td>\n",
              "      <td>11</td>\n",
              "      <td>16</td>\n",
              "      <td>10.875000</td>\n",
              "      <td>2</td>\n",
              "      <td>2</td>\n",
              "    </tr>\n",
              "    <tr>\n",
              "      <th>1452</th>\n",
              "      <td>single</td>\n",
              "      <td>1</td>\n",
              "      <td>1</td>\n",
              "      <td>171</td>\n",
              "      <td>1</td>\n",
              "      <td>1</td>\n",
              "      <td>132.0</td>\n",
              "      <td>1</td>\n",
              "      <td>1</td>\n",
              "      <td>1</td>\n",
              "      <td>...</td>\n",
              "      <td>0</td>\n",
              "      <td>0</td>\n",
              "      <td>0</td>\n",
              "      <td>0</td>\n",
              "      <td>0</td>\n",
              "      <td>0</td>\n",
              "      <td>0</td>\n",
              "      <td>0.000000</td>\n",
              "      <td>2</td>\n",
              "      <td>1</td>\n",
              "    </tr>\n",
              "    <tr>\n",
              "      <th>3582</th>\n",
              "      <td>single</td>\n",
              "      <td>39</td>\n",
              "      <td>1</td>\n",
              "      <td>9991</td>\n",
              "      <td>0</td>\n",
              "      <td>1</td>\n",
              "      <td>133.1</td>\n",
              "      <td>1</td>\n",
              "      <td>38</td>\n",
              "      <td>37</td>\n",
              "      <td>...</td>\n",
              "      <td>0</td>\n",
              "      <td>25</td>\n",
              "      <td>0</td>\n",
              "      <td>0</td>\n",
              "      <td>0</td>\n",
              "      <td>10</td>\n",
              "      <td>0</td>\n",
              "      <td>0.000000</td>\n",
              "      <td>2</td>\n",
              "      <td>2</td>\n",
              "    </tr>\n",
              "    <tr>\n",
              "      <th>984</th>\n",
              "      <td>single</td>\n",
              "      <td>1</td>\n",
              "      <td>1</td>\n",
              "      <td>9147</td>\n",
              "      <td>1</td>\n",
              "      <td>1</td>\n",
              "      <td>128.0</td>\n",
              "      <td>1</td>\n",
              "      <td>1</td>\n",
              "      <td>1</td>\n",
              "      <td>...</td>\n",
              "      <td>0</td>\n",
              "      <td>25</td>\n",
              "      <td>64</td>\n",
              "      <td>3</td>\n",
              "      <td>0</td>\n",
              "      <td>10</td>\n",
              "      <td>16</td>\n",
              "      <td>13.000000</td>\n",
              "      <td>2</td>\n",
              "      <td>2</td>\n",
              "    </tr>\n",
              "    <tr>\n",
              "      <th>392</th>\n",
              "      <td>single</td>\n",
              "      <td>1</td>\n",
              "      <td>6</td>\n",
              "      <td>9773</td>\n",
              "      <td>1</td>\n",
              "      <td>1</td>\n",
              "      <td>141.0</td>\n",
              "      <td>1</td>\n",
              "      <td>30</td>\n",
              "      <td>37</td>\n",
              "      <td>...</td>\n",
              "      <td>0</td>\n",
              "      <td>36</td>\n",
              "      <td>64</td>\n",
              "      <td>10</td>\n",
              "      <td>0</td>\n",
              "      <td>12</td>\n",
              "      <td>16</td>\n",
              "      <td>12.200000</td>\n",
              "      <td>2</td>\n",
              "      <td>2</td>\n",
              "    </tr>\n",
              "    <tr>\n",
              "      <th>1547</th>\n",
              "      <td>married</td>\n",
              "      <td>39</td>\n",
              "      <td>1</td>\n",
              "      <td>9991</td>\n",
              "      <td>0</td>\n",
              "      <td>9</td>\n",
              "      <td>133.1</td>\n",
              "      <td>1</td>\n",
              "      <td>34</td>\n",
              "      <td>34</td>\n",
              "      <td>...</td>\n",
              "      <td>0</td>\n",
              "      <td>25</td>\n",
              "      <td>25</td>\n",
              "      <td>0</td>\n",
              "      <td>0</td>\n",
              "      <td>10</td>\n",
              "      <td>10</td>\n",
              "      <td>0.000000</td>\n",
              "      <td>2</td>\n",
              "      <td>2</td>\n",
              "    </tr>\n",
              "    <tr>\n",
              "      <th>40</th>\n",
              "      <td>single</td>\n",
              "      <td>1</td>\n",
              "      <td>5</td>\n",
              "      <td>9773</td>\n",
              "      <td>1</td>\n",
              "      <td>1</td>\n",
              "      <td>126.0</td>\n",
              "      <td>1</td>\n",
              "      <td>3</td>\n",
              "      <td>3</td>\n",
              "      <td>...</td>\n",
              "      <td>0</td>\n",
              "      <td>36</td>\n",
              "      <td>36</td>\n",
              "      <td>4</td>\n",
              "      <td>0</td>\n",
              "      <td>11</td>\n",
              "      <td>11</td>\n",
              "      <td>6.375000</td>\n",
              "      <td>2</td>\n",
              "      <td>2</td>\n",
              "    </tr>\n",
              "    <tr>\n",
              "      <th>1488</th>\n",
              "      <td>single</td>\n",
              "      <td>43</td>\n",
              "      <td>1</td>\n",
              "      <td>8014</td>\n",
              "      <td>0</td>\n",
              "      <td>1</td>\n",
              "      <td>131.0</td>\n",
              "      <td>1</td>\n",
              "      <td>19</td>\n",
              "      <td>37</td>\n",
              "      <td>...</td>\n",
              "      <td>0</td>\n",
              "      <td>36</td>\n",
              "      <td>169</td>\n",
              "      <td>0</td>\n",
              "      <td>0</td>\n",
              "      <td>12</td>\n",
              "      <td>19</td>\n",
              "      <td>0.000000</td>\n",
              "      <td>2</td>\n",
              "      <td>2</td>\n",
              "    </tr>\n",
              "  </tbody>\n",
              "</table>\n",
              "<p>15 rows × 38 columns</p>\n",
              "</div>\n",
              "    <div class=\"colab-df-buttons\">\n",
              "\n",
              "  <div class=\"colab-df-container\">\n",
              "    <button class=\"colab-df-convert\" onclick=\"convertToInteractive('df-0e35330f-1ab5-4f8b-ab76-a34f26bce936')\"\n",
              "            title=\"Convert this dataframe to an interactive table.\"\n",
              "            style=\"display:none;\">\n",
              "\n",
              "  <svg xmlns=\"http://www.w3.org/2000/svg\" height=\"24px\" viewBox=\"0 -960 960 960\">\n",
              "    <path d=\"M120-120v-720h720v720H120Zm60-500h600v-160H180v160Zm220 220h160v-160H400v160Zm0 220h160v-160H400v160ZM180-400h160v-160H180v160Zm440 0h160v-160H620v160ZM180-180h160v-160H180v160Zm440 0h160v-160H620v160Z\"/>\n",
              "  </svg>\n",
              "    </button>\n",
              "\n",
              "  <style>\n",
              "    .colab-df-container {\n",
              "      display:flex;\n",
              "      gap: 12px;\n",
              "    }\n",
              "\n",
              "    .colab-df-convert {\n",
              "      background-color: #E8F0FE;\n",
              "      border: none;\n",
              "      border-radius: 50%;\n",
              "      cursor: pointer;\n",
              "      display: none;\n",
              "      fill: #1967D2;\n",
              "      height: 32px;\n",
              "      padding: 0 0 0 0;\n",
              "      width: 32px;\n",
              "    }\n",
              "\n",
              "    .colab-df-convert:hover {\n",
              "      background-color: #E2EBFA;\n",
              "      box-shadow: 0px 1px 2px rgba(60, 64, 67, 0.3), 0px 1px 3px 1px rgba(60, 64, 67, 0.15);\n",
              "      fill: #174EA6;\n",
              "    }\n",
              "\n",
              "    .colab-df-buttons div {\n",
              "      margin-bottom: 4px;\n",
              "    }\n",
              "\n",
              "    [theme=dark] .colab-df-convert {\n",
              "      background-color: #3B4455;\n",
              "      fill: #D2E3FC;\n",
              "    }\n",
              "\n",
              "    [theme=dark] .colab-df-convert:hover {\n",
              "      background-color: #434B5C;\n",
              "      box-shadow: 0px 1px 3px 1px rgba(0, 0, 0, 0.15);\n",
              "      filter: drop-shadow(0px 1px 2px rgba(0, 0, 0, 0.3));\n",
              "      fill: #FFFFFF;\n",
              "    }\n",
              "  </style>\n",
              "\n",
              "    <script>\n",
              "      const buttonEl =\n",
              "        document.querySelector('#df-0e35330f-1ab5-4f8b-ab76-a34f26bce936 button.colab-df-convert');\n",
              "      buttonEl.style.display =\n",
              "        google.colab.kernel.accessAllowed ? 'block' : 'none';\n",
              "\n",
              "      async function convertToInteractive(key) {\n",
              "        const element = document.querySelector('#df-0e35330f-1ab5-4f8b-ab76-a34f26bce936');\n",
              "        const dataTable =\n",
              "          await google.colab.kernel.invokeFunction('convertToInteractive',\n",
              "                                                    [key], {});\n",
              "        if (!dataTable) return;\n",
              "\n",
              "        const docLinkHtml = 'Like what you see? Visit the ' +\n",
              "          '<a target=\"_blank\" href=https://colab.research.google.com/notebooks/data_table.ipynb>data table notebook</a>'\n",
              "          + ' to learn more about interactive tables.';\n",
              "        element.innerHTML = '';\n",
              "        dataTable['output_type'] = 'display_data';\n",
              "        await google.colab.output.renderOutput(dataTable, element);\n",
              "        const docLink = document.createElement('div');\n",
              "        docLink.innerHTML = docLinkHtml;\n",
              "        element.appendChild(docLink);\n",
              "      }\n",
              "    </script>\n",
              "  </div>\n",
              "\n",
              "\n",
              "<div id=\"df-ca2e9af0-560c-4cee-85fc-882484185b9d\">\n",
              "  <button class=\"colab-df-quickchart\" onclick=\"quickchart('df-ca2e9af0-560c-4cee-85fc-882484185b9d')\"\n",
              "            title=\"Suggest charts\"\n",
              "            style=\"display:none;\">\n",
              "\n",
              "<svg xmlns=\"http://www.w3.org/2000/svg\" height=\"24px\"viewBox=\"0 0 24 24\"\n",
              "     width=\"24px\">\n",
              "    <g>\n",
              "        <path d=\"M19 3H5c-1.1 0-2 .9-2 2v14c0 1.1.9 2 2 2h14c1.1 0 2-.9 2-2V5c0-1.1-.9-2-2-2zM9 17H7v-7h2v7zm4 0h-2V7h2v10zm4 0h-2v-4h2v4z\"/>\n",
              "    </g>\n",
              "</svg>\n",
              "  </button>\n",
              "\n",
              "<style>\n",
              "  .colab-df-quickchart {\n",
              "      --bg-color: #E8F0FE;\n",
              "      --fill-color: #1967D2;\n",
              "      --hover-bg-color: #E2EBFA;\n",
              "      --hover-fill-color: #174EA6;\n",
              "      --disabled-fill-color: #AAA;\n",
              "      --disabled-bg-color: #DDD;\n",
              "  }\n",
              "\n",
              "  [theme=dark] .colab-df-quickchart {\n",
              "      --bg-color: #3B4455;\n",
              "      --fill-color: #D2E3FC;\n",
              "      --hover-bg-color: #434B5C;\n",
              "      --hover-fill-color: #FFFFFF;\n",
              "      --disabled-bg-color: #3B4455;\n",
              "      --disabled-fill-color: #666;\n",
              "  }\n",
              "\n",
              "  .colab-df-quickchart {\n",
              "    background-color: var(--bg-color);\n",
              "    border: none;\n",
              "    border-radius: 50%;\n",
              "    cursor: pointer;\n",
              "    display: none;\n",
              "    fill: var(--fill-color);\n",
              "    height: 32px;\n",
              "    padding: 0;\n",
              "    width: 32px;\n",
              "  }\n",
              "\n",
              "  .colab-df-quickchart:hover {\n",
              "    background-color: var(--hover-bg-color);\n",
              "    box-shadow: 0 1px 2px rgba(60, 64, 67, 0.3), 0 1px 3px 1px rgba(60, 64, 67, 0.15);\n",
              "    fill: var(--button-hover-fill-color);\n",
              "  }\n",
              "\n",
              "  .colab-df-quickchart-complete:disabled,\n",
              "  .colab-df-quickchart-complete:disabled:hover {\n",
              "    background-color: var(--disabled-bg-color);\n",
              "    fill: var(--disabled-fill-color);\n",
              "    box-shadow: none;\n",
              "  }\n",
              "\n",
              "  .colab-df-spinner {\n",
              "    border: 2px solid var(--fill-color);\n",
              "    border-color: transparent;\n",
              "    border-bottom-color: var(--fill-color);\n",
              "    animation:\n",
              "      spin 1s steps(1) infinite;\n",
              "  }\n",
              "\n",
              "  @keyframes spin {\n",
              "    0% {\n",
              "      border-color: transparent;\n",
              "      border-bottom-color: var(--fill-color);\n",
              "      border-left-color: var(--fill-color);\n",
              "    }\n",
              "    20% {\n",
              "      border-color: transparent;\n",
              "      border-left-color: var(--fill-color);\n",
              "      border-top-color: var(--fill-color);\n",
              "    }\n",
              "    30% {\n",
              "      border-color: transparent;\n",
              "      border-left-color: var(--fill-color);\n",
              "      border-top-color: var(--fill-color);\n",
              "      border-right-color: var(--fill-color);\n",
              "    }\n",
              "    40% {\n",
              "      border-color: transparent;\n",
              "      border-right-color: var(--fill-color);\n",
              "      border-top-color: var(--fill-color);\n",
              "    }\n",
              "    60% {\n",
              "      border-color: transparent;\n",
              "      border-right-color: var(--fill-color);\n",
              "    }\n",
              "    80% {\n",
              "      border-color: transparent;\n",
              "      border-right-color: var(--fill-color);\n",
              "      border-bottom-color: var(--fill-color);\n",
              "    }\n",
              "    90% {\n",
              "      border-color: transparent;\n",
              "      border-bottom-color: var(--fill-color);\n",
              "    }\n",
              "  }\n",
              "</style>\n",
              "\n",
              "  <script>\n",
              "    async function quickchart(key) {\n",
              "      const quickchartButtonEl =\n",
              "        document.querySelector('#' + key + ' button');\n",
              "      quickchartButtonEl.disabled = true;  // To prevent multiple clicks.\n",
              "      quickchartButtonEl.classList.add('colab-df-spinner');\n",
              "      try {\n",
              "        const charts = await google.colab.kernel.invokeFunction(\n",
              "            'suggestCharts', [key], {});\n",
              "      } catch (error) {\n",
              "        console.error('Error during call to suggestCharts:', error);\n",
              "      }\n",
              "      quickchartButtonEl.classList.remove('colab-df-spinner');\n",
              "      quickchartButtonEl.classList.add('colab-df-quickchart-complete');\n",
              "    }\n",
              "    (() => {\n",
              "      let quickchartButtonEl =\n",
              "        document.querySelector('#df-ca2e9af0-560c-4cee-85fc-882484185b9d button');\n",
              "      quickchartButtonEl.style.display =\n",
              "        google.colab.kernel.accessAllowed ? 'block' : 'none';\n",
              "    })();\n",
              "  </script>\n",
              "</div>\n",
              "\n",
              "    </div>\n",
              "  </div>\n"
            ],
            "application/vnd.google.colaboratory.intrinsic+json": {
              "type": "dataframe",
              "variable_name": "df_dropout"
            }
          },
          "metadata": {},
          "execution_count": 62
        }
      ]
    },
    {
      "cell_type": "markdown",
      "source": [
        "----\n",
        "\n",
        "###### Desempenho academico com base no Estado Civil"
      ],
      "metadata": {
        "id": "OIdu9dJW5nCE"
      }
    },
    {
      "cell_type": "code",
      "source": [
        "fig, axes = plt.subplots(1, 2, figsize=(14, 6))\n",
        "\n",
        "# Primeiro Gráfico\n",
        "sns.barplot(data=grouped_dropout, x='Marital Status', y='Number of Students', ax=axes[0], palette=\"viridis\", dodge=False)\n",
        "axes[0].set_xlabel('Marital Status')\n",
        "axes[0].set_ylabel('Numero de universitarios')\n",
        "axes[0].set_title('Numero de Dropout by Marital Status')\n",
        "for index, row in grouped_dropout.iterrows():\n",
        "    axes[0].text(index, row['Number of Students'], row['Number of Students'], color='black', ha=\"center\")\n",
        "\n",
        "# Segundo Gráfico\n",
        "sns.barplot(data=grouped_graduate, x='Marital Status', y='Number of Students', palette=\"viridis\", ax=axes[1], dodge=False)\n",
        "axes[1].set_xlabel('Marital Status')\n",
        "axes[1].set_ylabel('Numero de universitarios')\n",
        "axes[1].set_title('Numero de Graduate by Marital Status')\n",
        "for index, row in grouped_graduate.iterrows():\n",
        "    axes[1].text(index, row['Number of Students'], row['Number of Students'], color='black', ha=\"center\")\n",
        "\n",
        "plt.tight_layout()\n",
        "plt.show()"
      ],
      "metadata": {
        "colab": {
          "base_uri": "https://localhost:8080/",
          "height": 781
        },
        "id": "G7tMEVO9765c",
        "outputId": "1cb4643c-3e37-49af-f031-e81aaeece0a1"
      },
      "execution_count": null,
      "outputs": [
        {
          "output_type": "stream",
          "name": "stderr",
          "text": [
            "<ipython-input-76-dbd07f9602e0>:4: FutureWarning: \n",
            "\n",
            "Passing `palette` without assigning `hue` is deprecated and will be removed in v0.14.0. Assign the `x` variable to `hue` and set `legend=False` for the same effect.\n",
            "\n",
            "  sns.barplot(data=grouped_dropout, x='Marital Status', y='Number of Students', ax=axes[0], palette=\"viridis\", dodge=False)\n",
            "<ipython-input-76-dbd07f9602e0>:12: FutureWarning: \n",
            "\n",
            "Passing `palette` without assigning `hue` is deprecated and will be removed in v0.14.0. Assign the `x` variable to `hue` and set `legend=False` for the same effect.\n",
            "\n",
            "  sns.barplot(data=grouped_graduate, x='Marital Status', y='Number of Students', palette=\"viridis\", ax=axes[1], dodge=False)\n"
          ]
        },
        {
          "output_type": "display_data",
          "data": {
            "text/plain": [
              "<Figure size 1400x600 with 2 Axes>"
            ],
            "image/png": "[encoded data removed]"
          },
          "metadata": {}
        }
      ]
    },
    {
      "cell_type": "markdown",
      "source": [
        "Gráfico que apresenta o número total de estudantes e sua distribuição por estado civil, buscando analisar qual grupo é mais suscetível a desistir da universidade."
      ],
      "metadata": {
        "id": "yqwStreDmykF"
      }
    },
    {
      "cell_type": "markdown",
      "source": [
        "###### Situação socioeconômica"
      ],
      "metadata": {
        "id": "reGRVMb7Bxn6"
      }
    },
    {
      "cell_type": "code",
      "source": [
        "fig, axes = plt.subplots(1, 2, figsize=(14, 6))\n",
        "\n",
        "# Primeiro gráfico\n",
        "sns.histplot(data=df_dropout, x='GDP', ax=axes[0], hue='Tuition fees up to date', palette='viridis', multiple='layer', kde=True)\n",
        "axes[0].set_xlabel('GDP')\n",
        "axes[0].set_ylabel('Numero de universitarios')\n",
        "axes[0].set_title('Histograma de Dropout by GDP')\n",
        "\n",
        "# Segundo gráfico\n",
        "sns.histplot(data=df_graduate, x='GDP', ax=axes[1], hue='Tuition fees up to date', palette='viridis', multiple='layer', kde=True)\n",
        "axes[1].set_xlabel('GDP')\n",
        "axes[1].set_ylabel('Numero de universitarios')\n",
        "axes[1].set_title('Histograma de Graduate by GDP')\n",
        "\n",
        "plt.tight_layout()\n",
        "plt.show()"
      ],
      "metadata": {
        "colab": {
          "base_uri": "https://localhost:8080/"
        },
        "id": "1BxBvM6sCest",
        "outputId": "fd6083e4-f873-4736-843d-5ef5f784933d"
      },
      "execution_count": null,
      "outputs": [
        {
          "output_type": "display_data",
          "data": {
            "text/plain": [
              "<Figure size 1400x600 with 2 Axes>"
            ],
            "image/png": "[encoded data removed]"
          },
          "metadata": {}
        }
      ]
    },
    {
      "cell_type": "markdown",
      "source": [
        "Gráfico comparativo revela a disparidade no status socioeconômico entre indivíduos e seu impacto no Produto Interno Doméstico (GDP) das pessoas, destacando se houve abandono devido a esta condição. Observa-se que uma parcela significativa da população não conclui o ensino superior devido à falta de recursos financeiros para custear os estudos universitários, levando-os, consequentemente, a desistir dessa etapa educacional."
      ],
      "metadata": {
        "id": "l4FN63m-9OL3"
      }
    },
    {
      "cell_type": "markdown",
      "source": [
        "#### Apoio à Tomada de Decisão\n",
        "Auxiliar na tomada de decisões estratégicas, fornecendo insights sobre quais grupos de alunos estão em maior risco e quais medidas preventivas podem ser implementadas para melhorar a retenção e o sucesso dos alunos."
      ],
      "metadata": {
        "id": "DpT8jQBvdy8h"
      }
    },
    {
      "cell_type": "code",
      "source": [
        "param_grid = {\n",
        "    'n_estimators': [100, 200, 300],\n",
        "    'max_depth': [4],\n",
        "    'min_samples_split': [2, 5, 10],\n",
        "    'min_samples_leaf': [1, 2, 4]\n",
        "}"
      ],
      "metadata": {
        "id": "bH5NjBJoZPYL"
      },
      "execution_count": null,
      "outputs": []
    },
    {
      "cell_type": "code",
      "source": [
        "rf_model = RandomForestClassifier(random_state=42)\n",
        "grid_search = GridSearchCV(estimator=rf_model, param_grid=param_grid, cv=5, scoring='accuracy')"
      ],
      "metadata": {
        "id": "eHX_HTCDd8MC"
      },
      "execution_count": null,
      "outputs": []
    },
    {
      "cell_type": "code",
      "source": [
        "class_names_mapping = {1: \"Graduate\", 2: \"Dropout\"}"
      ],
      "metadata": {
        "id": "BHB_q_lN29Zc"
      },
      "execution_count": null,
      "outputs": []
    },
    {
      "cell_type": "code",
      "source": [
        "grid_search.fit(X_train_scaled, y_train)"
      ],
      "metadata": {
        "colab": {
          "base_uri": "https://localhost:8080/",
          "height": 118
        },
        "id": "1ZOzEv0TZUHr",
        "outputId": "92248b20-9edf-49ca-b4c3-803ab6de45b7"
      },
      "execution_count": null,
      "outputs": [
        {
          "output_type": "execute_result",
          "data": {
            "text/plain": [
              "GridSearchCV(cv=5, estimator=RandomForestClassifier(random_state=42),\n",
              "             param_grid={'max_depth': [4], 'min_samples_leaf': [1, 2, 4],\n",
              "                         'min_samples_split': [2, 5, 10],\n",
              "                         'n_estimators': [100, 200, 300]},\n",
              "             scoring='accuracy')"
            ],
            "text/html": [
              "<style>#sk-container-id-2 {color: black;background-color: white;}#sk-container-id-2 pre{padding: 0;}#sk-container-id-2 div.sk-toggleable {background-color: white;}#sk-container-id-2 label.sk-toggleable__label {cursor: pointer;display: block;width: 100%;margin-bottom: 0;padding: 0.3em;box-sizing: border-box;text-align: center;}#sk-container-id-2 label.sk-toggleable__label-arrow:before {content: \"▸\";float: left;margin-right: 0.25em;color: #696969;}#sk-container-id-2 label.sk-toggleable__label-arrow:hover:before {color: black;}#sk-container-id-2 div.sk-estimator:hover label.sk-toggleable__label-arrow:before {color: black;}#sk-container-id-2 div.sk-toggleable__content {max-height: 0;max-width: 0;overflow: hidden;text-align: left;background-color: #f0f8ff;}#sk-container-id-2 div.sk-toggleable__content pre {margin: 0.2em;color: black;border-radius: 0.25em;background-color: #f0f8ff;}#sk-container-id-2 input.sk-toggleable__control:checked~div.sk-toggleable__content {max-height: 200px;max-width: 100%;overflow: auto;}#sk-container-id-2 input.sk-toggleable__control:checked~label.sk-toggleable__label-arrow:before {content: \"▾\";}#sk-container-id-2 div.sk-estimator input.sk-toggleable__control:checked~label.sk-toggleable__label {background-color: #d4ebff;}#sk-container-id-2 div.sk-label input.sk-toggleable__control:checked~label.sk-toggleable__label {background-color: #d4ebff;}#sk-container-id-2 input.sk-hidden--visually {border: 0;clip: rect(1px 1px 1px 1px);clip: rect(1px, 1px, 1px, 1px);height: 1px;margin: -1px;overflow: hidden;padding: 0;position: absolute;width: 1px;}#sk-container-id-2 div.sk-estimator {font-family: monospace;background-color: #f0f8ff;border: 1px dotted black;border-radius: 0.25em;box-sizing: border-box;margin-bottom: 0.5em;}#sk-container-id-2 div.sk-estimator:hover {background-color: #d4ebff;}#sk-container-id-2 div.sk-parallel-item::after {content: \"\";width: 100%;border-bottom: 1px solid gray;flex-grow: 1;}#sk-container-id-2 div.sk-label:hover label.sk-toggleable__label {background-color: #d4ebff;}#sk-container-id-2 div.sk-serial::before {content: \"\";position: absolute;border-left: 1px solid gray;box-sizing: border-box;top: 0;bottom: 0;left: 50%;z-index: 0;}#sk-container-id-2 div.sk-serial {display: flex;flex-direction: column;align-items: center;background-color: white;padding-right: 0.2em;padding-left: 0.2em;position: relative;}#sk-container-id-2 div.sk-item {position: relative;z-index: 1;}#sk-container-id-2 div.sk-parallel {display: flex;align-items: stretch;justify-content: center;background-color: white;position: relative;}#sk-container-id-2 div.sk-item::before, #sk-container-id-2 div.sk-parallel-item::before {content: \"\";position: absolute;border-left: 1px solid gray;box-sizing: border-box;top: 0;bottom: 0;left: 50%;z-index: -1;}#sk-container-id-2 div.sk-parallel-item {display: flex;flex-direction: column;z-index: 1;position: relative;background-color: white;}#sk-container-id-2 div.sk-parallel-item:first-child::after {align-self: flex-end;width: 50%;}#sk-container-id-2 div.sk-parallel-item:last-child::after {align-self: flex-start;width: 50%;}#sk-container-id-2 div.sk-parallel-item:only-child::after {width: 0;}#sk-container-id-2 div.sk-dashed-wrapped {border: 1px dashed gray;margin: 0 0.4em 0.5em 0.4em;box-sizing: border-box;padding-bottom: 0.4em;background-color: white;}#sk-container-id-2 div.sk-label label {font-family: monospace;font-weight: bold;display: inline-block;line-height: 1.2em;}#sk-container-id-2 div.sk-label-container {text-align: center;}#sk-container-id-2 div.sk-container {/* jupyter's `normalize.less` sets `[hidden] { display: none; }` but bootstrap.min.css set `[hidden] { display: none !important; }` so we also need the `!important` here to be able to override the default hidden behavior on the sphinx rendered scikit-learn.org. See: https://github.com/scikit-learn/scikit-learn/issues/21755 */display: inline-block !important;position: relative;}#sk-container-id-2 div.sk-text-repr-fallback {display: none;}</style><div id=\"sk-container-id-2\" class=\"sk-top-container\"><div class=\"sk-text-repr-fallback\"><pre>GridSearchCV(cv=5, estimator=RandomForestClassifier(random_state=42),\n",
              "             param_grid={&#x27;max_depth&#x27;: [4], &#x27;min_samples_leaf&#x27;: [1, 2, 4],\n",
              "                         &#x27;min_samples_split&#x27;: [2, 5, 10],\n",
              "                         &#x27;n_estimators&#x27;: [100, 200, 300]},\n",
              "             scoring=&#x27;accuracy&#x27;)</pre><b>In a Jupyter environment, please rerun this cell to show the HTML representation or trust the notebook. <br />On GitHub, the HTML representation is unable to render, please try loading this page with nbviewer.org.</b></div><div class=\"sk-container\" hidden><div class=\"sk-item sk-dashed-wrapped\"><div class=\"sk-label-container\"><div class=\"sk-label sk-toggleable\"><input class=\"sk-toggleable__control sk-hidden--visually\" id=\"sk-estimator-id-4\" type=\"checkbox\" ><label for=\"sk-estimator-id-4\" class=\"sk-toggleable__label sk-toggleable__label-arrow\">GridSearchCV</label><div class=\"sk-toggleable__content\"><pre>GridSearchCV(cv=5, estimator=RandomForestClassifier(random_state=42),\n",
              "             param_grid={&#x27;max_depth&#x27;: [4], &#x27;min_samples_leaf&#x27;: [1, 2, 4],\n",
              "                         &#x27;min_samples_split&#x27;: [2, 5, 10],\n",
              "                         &#x27;n_estimators&#x27;: [100, 200, 300]},\n",
              "             scoring=&#x27;accuracy&#x27;)</pre></div></div></div><div class=\"sk-parallel\"><div class=\"sk-parallel-item\"><div class=\"sk-item\"><div class=\"sk-label-container\"><div class=\"sk-label sk-toggleable\"><input class=\"sk-toggleable__control sk-hidden--visually\" id=\"sk-estimator-id-5\" type=\"checkbox\" ><label for=\"sk-estimator-id-5\" class=\"sk-toggleable__label sk-toggleable__label-arrow\">estimator: RandomForestClassifier</label><div class=\"sk-toggleable__content\"><pre>RandomForestClassifier(random_state=42)</pre></div></div></div><div class=\"sk-serial\"><div class=\"sk-item\"><div class=\"sk-estimator sk-toggleable\"><input class=\"sk-toggleable__control sk-hidden--visually\" id=\"sk-estimator-id-6\" type=\"checkbox\" ><label for=\"sk-estimator-id-6\" class=\"sk-toggleable__label sk-toggleable__label-arrow\">RandomForestClassifier</label><div class=\"sk-toggleable__content\"><pre>RandomForestClassifier(random_state=42)</pre></div></div></div></div></div></div></div></div></div></div>"
            ]
          },
          "metadata": {},
          "execution_count": 68
        }
      ]
    },
    {
      "cell_type": "code",
      "source": [
        "best_rf_model = grid_search.best_estimator_\n",
        "# Obtenha o melhor score durante a pesquisa\n",
        "best_score = grid_search.best_score_\n",
        "# Obtenha os melhores parâmetros encontrados durante a pesquisa\n",
        "best_params = grid_search.best_params_"
      ],
      "metadata": {
        "id": "4fdPllnZZYlr"
      },
      "execution_count": null,
      "outputs": []
    },
    {
      "cell_type": "code",
      "source": [
        "print(\"Melhor modelo encontrado:\", best_rf_model)\n",
        "print(\"Melhor score encontrado:\", best_score)\n",
        "print(\"Melhores parâmetros encontrados:\", best_params)"
      ],
      "metadata": {
        "colab": {
          "base_uri": "https://localhost:8080/"
        },
        "id": "zoogF4y7Zaqw",
        "outputId": "87b408bf-d6ba-4f40-e834-ef75ee2d2831"
      },
      "execution_count": null,
      "outputs": [
        {
          "output_type": "stream",
          "name": "stdout",
          "text": [
            "Melhor modelo encontrado: RandomForestClassifier(max_depth=4, min_samples_split=5, n_estimators=200,\n",
            "                       random_state=42)\n",
            "Melhor score encontrado: 0.8887666923853047\n",
            "Melhores parâmetros encontrados: {'max_depth': 4, 'min_samples_leaf': 1, 'min_samples_split': 5, 'n_estimators': 200}\n"
          ]
        }
      ]
    },
    {
      "cell_type": "code",
      "source": [
        "print(classification_report(y_test, predictions))"
      ],
      "metadata": {
        "colab": {
          "base_uri": "https://localhost:8080/"
        },
        "id": "r04PDXHYGQEW",
        "outputId": "1a2007cc-c752-484f-a328-6575ca11001d"
      },
      "execution_count": null,
      "outputs": [
        {
          "output_type": "stream",
          "name": "stdout",
          "text": [
            "              precision    recall  f1-score   support\n",
            "\n",
            "           1       0.90      0.95      0.92       449\n",
            "           2       0.90      0.82      0.86       277\n",
            "\n",
            "    accuracy                           0.90       726\n",
            "   macro avg       0.90      0.88      0.89       726\n",
            "weighted avg       0.90      0.90      0.90       726\n",
            "\n"
          ]
        }
      ]
    },
    {
      "cell_type": "markdown",
      "source": [
        "##### Grafico e Resultado"
      ],
      "metadata": {
        "id": "eJg1s6qdas9S"
      }
    },
    {
      "cell_type": "markdown",
      "source": [
        "###### Arvore de decisão\n"
      ],
      "metadata": {
        "id": "iCfsi2JRavbI"
      }
    },
    {
      "cell_type": "markdown",
      "source": [
        "Conversão das class para string"
      ],
      "metadata": {
        "id": "071-WsBme47S"
      }
    },
    {
      "cell_type": "code",
      "source": [
        "class_names = [class_names_mapping[class_name] for class_name in best_rf_model.classes_]"
      ],
      "metadata": {
        "id": "Sx4KzuV0Y2cS"
      },
      "execution_count": null,
      "outputs": []
    },
    {
      "cell_type": "code",
      "source": [
        "class_names"
      ],
      "metadata": {
        "colab": {
          "base_uri": "https://localhost:8080/"
        },
        "id": "LlYBelAs3rAj",
        "outputId": "96bc2a71-fa05-4edc-d8e8-96d546f52fff"
      },
      "execution_count": null,
      "outputs": [
        {
          "output_type": "execute_result",
          "data": {
            "text/plain": [
              "['Graduate', 'Dropout']"
            ]
          },
          "metadata": {},
          "execution_count": 73
        }
      ]
    },
    {
      "cell_type": "markdown",
      "source": [
        "Pegando o primeiro modelo do RandomForestClassifier"
      ],
      "metadata": {
        "id": "adfsogvxew5x"
      }
    },
    {
      "cell_type": "code",
      "source": [
        "estimator = best_rf_model.estimators_[0]"
      ],
      "metadata": {
        "id": "7dVCn0jRY3l8"
      },
      "execution_count": null,
      "outputs": []
    },
    {
      "cell_type": "markdown",
      "source": [
        "Descrição das informações dentro da árvore de decisão\n",
        "\n",
        "----\n",
        "Feature (Característica): A característica (ou atributo) que está sendo testada no nó. Por exemplo, \"idade\", \"gênero\", \"renda\", etc.\n",
        "\n",
        "Samples (Amostras): O número total de amostras no nó.\n",
        "\n",
        "Value (Valor): Uma lista que mostra quantas amostras de cada classe estão presentes no nó. Por exemplo, se houver três classes (0, 1 e 2) e o valor for [10, 20, 5], isso significa que há 10 amostras da classe 0, 20 da classe 1 e 5 da classe 2.\n",
        "\n",
        "Gini (Índice de Gini): Uma medida de impureza do nó. Quanto menor o índice de Gini, mais puro é o nó, o que significa que as amostras no nó são predominantemente de uma única classe.\n",
        "\n",
        "Class (Classe): A classe prevista para as amostras no nó, com base na maioria das amostras presentes. Essa informação é exibida apenas nos nós folha da árvore.\n",
        "\n",
        "-----\n",
        "\n",
        "Descrição do `plot_tree` \\\n",
        "estimator: O modelo de árvore de decisão que você treinou, como um objeto de classificador de árvore de decisão (DecisionTreeClassifier) ou um objeto de regressor de árvore de decisão (DecisionTreeRegressor).\n",
        "\n",
        "feature_names: Uma lista dos nomes das características do seu conjunto de dados. Isso é usado para rotular os nós da árvore com o nome das características.\n",
        "\n",
        "class_names: Uma lista dos nomes das classes em seu problema de classificação. Isso é usado para rotular os nós folha da árvore com o nome das classes.\n",
        "filled: Um valor booleano que indica se os nós da árvore devem ser preenchidos com cores para representar a classe majoritária naquele nó.\n",
        "\n",
        "impurity: Um valor booleano que indica se o índice de impureza (como o índice Gini) deve ser exibido em cada nó da árvore.\n",
        "\n",
        "proportion: Um valor booleano que indica se a proporção de amostras de cada classe no nó deve ser exibida.\n",
        "\n",
        "precision: O número de casas decimais a serem exibidas nos valores nos nós da árvore, como o índice de impureza. Isso afeta a precisão da exibição dos números.\n"
      ],
      "metadata": {
        "id": "ovUmwy_ucuKr"
      }
    },
    {
      "cell_type": "code",
      "source": [
        "plt.figure(figsize=(35, 5))\n",
        "tree.plot_tree(estimator, feature_names=X_categorical.columns, class_names=class_names, filled=True, impurity=True, proportion=True, precision=2)\n",
        "plt.show()"
      ],
      "metadata": {
        "colab": {
          "base_uri": "https://localhost:8080/",
          "height": 442
        },
        "id": "lGI-sJ16WR5L",
        "outputId": "7384e971-26be-47a6-98d4-cacee157d9b3"
      },
      "execution_count": null,
      "outputs": [
        {
          "output_type": "display_data",
          "data": {
            "text/plain": [
              "<Figure size 3500x500 with 1 Axes>"
            ],
            "image/png": "[encoded data removed]"
          },
          "metadata": {}
        }
      ]
    }
  ]
}